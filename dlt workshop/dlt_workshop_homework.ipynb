{
  "nbformat": 4,
  "nbformat_minor": 0,
  "metadata": {
    "colab": {
      "provenance": [],
      "gpuType": "T4"
    },
    "kernelspec": {
      "name": "python3",
      "display_name": "Python 3"
    },
    "language_info": {
      "name": "python"
    },
    "accelerator": "GPU"
  },
  "cells": [
    {
      "cell_type": "markdown",
      "source": [
        "## MODIFIED from Copy of LLM_zoomcamp_RAG_demo.ipynb"
      ],
      "metadata": {
        "id": "KxUb_er6Ii4_"
      }
    },
    {
      "cell_type": "markdown",
      "source": [
        "### 1. Install requirements"
      ],
      "metadata": {
        "id": "K3VvFlhSbRYx"
      }
    },
    {
      "cell_type": "code",
      "source": [
        "%%capture\n",
        "!pip install dlt[lancedb]==0.5.1a0\n",
        "!pip install sentence-transformers"
      ],
      "metadata": {
        "id": "vcQ6QseXKSHX"
      },
      "execution_count": 2,
      "outputs": []
    },
    {
      "cell_type": "code",
      "source": [
        "import dlt\n",
        "import lancedb\n",
        "import os\n",
        "from rest_api import RESTAPIConfig, rest_api_source\n",
        "\n",
        "from dlt.sources.helpers.rest_client.paginators import BasePaginator, JSONResponsePaginator\n",
        "from dlt.sources.helpers.requests import Response, Request\n",
        "\n",
        "from dlt.destinations.adapters import lancedb_adapter"
      ],
      "metadata": {
        "id": "BiA7UEAmtoFy"
      },
      "execution_count": 4,
      "outputs": []
    },
    {
      "cell_type": "markdown",
      "source": [
        "### 2. Create a dlt project with rest_api source and lancedb destination"
      ],
      "metadata": {
        "id": "_aqwtE-Owslg"
      }
    },
    {
      "cell_type": "code",
      "source": [
        "!yes | dlt init rest_api lancedb"
      ],
      "metadata": {
        "colab": {
          "base_uri": "https://localhost:8080/"
        },
        "id": "Gn5QwziOjqT9",
        "outputId": "403a69b3-fb44-4577-d217-fdc0592b0611"
      },
      "execution_count": 7,
      "outputs": [
        {
          "output_type": "stream",
          "name": "stdout",
          "text": [
            "Looking up the init scripts in \u001b[1mhttps://github.com/dlt-hub/verified-sources.git\u001b[0m...\n",
            "No files to update, exiting\n"
          ]
        }
      ]
    },
    {
      "cell_type": "markdown",
      "source": [
        "### 3. Add API credentials"
      ],
      "metadata": {
        "id": "NqjfumInhWLK"
      }
    },
    {
      "cell_type": "code",
      "source": [
        "from google.colab import userdata\n",
        "\n",
        "os.environ[\"SOURCES__REST_API__NOTION__API_KEY\"] = userdata.get(\"SOURCES__REST_API__NOTION__API_KEY\")\n",
        "\n",
        "os.environ[\"DESTINATION__LANCEDB__EMBEDDING_MODEL_PROVIDER\"] = \"sentence-transformers\"\n",
        "os.environ[\"DESTINATION__LANCEDB__EMBEDDING_MODEL\"] = \"all-MiniLM-L6-v2\"\n",
        "\n",
        "os.environ[\"DESTINATION__LANCEDB__CREDENTIALS__URI\"] = \".lancedb\""
      ],
      "metadata": {
        "id": "vSLP6qhNqafV"
      },
      "execution_count": 8,
      "outputs": []
    },
    {
      "cell_type": "markdown",
      "source": [
        "## Homework\n",
        "In the workshop, we extracted contents from two pages in notion titled \"Workshop: Benefits and Perks\" and \"Workshop: Working hours, PTO, and Vacation\".\n",
        "\n",
        "Repeat the same process for a third page titled \"Homework: Employee handbook\" (hidden from public view, but accessible via API key):\n",
        "\n",
        "1. Modify the REST API source to extract only this page.\n",
        "2. Write the output into a separate table called \"homework\".\n",
        "3. Remember to update the table name in all cells where you connect to a lancedb table.\n",
        "\n",
        "To do this you can use the [workshop Colab](https://colab.research.google.com/drive/1nNOybHdWQiwUUuJFZu__xvJxL_ADU3xl?usp=sharing) as a basis.\n",
        "\n",
        "Now, answer the following questions:"
      ],
      "metadata": {
        "id": "Wh3lPEXMdsDi"
      }
    },
    {
      "cell_type": "markdown",
      "source": [
        "### 4. Write the pipeline code"
      ],
      "metadata": {
        "id": "Eg9ySPDHtYLw"
      }
    },
    {
      "cell_type": "code",
      "source": [
        "from datetime import datetime, timezone\n",
        "\n",
        "class PostBodyPaginator(BasePaginator):\n",
        "    def __init__(self):\n",
        "        super().__init__()\n",
        "        self.cursor = None\n",
        "\n",
        "    def update_state(self, response: Response) -> None:\n",
        "        # Assuming the API returns an empty list when no more data is available\n",
        "        if not response.json():\n",
        "            self._has_next_page = False\n",
        "        else:\n",
        "            self.cursor = response.json().get(\"next_cursor\")\n",
        "            if self.cursor is None:\n",
        "                self._has_next_page = False\n",
        "\n",
        "    def update_request(self, request: Request) -> None:\n",
        "        if request.json is None:\n",
        "            request.json = {}\n",
        "\n",
        "        # Add the cursor to the request body\n",
        "        request.json[\"start_cursor\"] = self.cursor\n",
        "\n",
        "@dlt.resource(name=\"employee_handbook\")\n",
        "def rest_api_notion_resource():\n",
        "    notion_config: RESTAPIConfig = {\n",
        "        \"client\": {\n",
        "            \"base_url\": \"https://api.notion.com/v1/\",\n",
        "            \"auth\": {\n",
        "                \"token\": dlt.secrets[\"sources.rest_api.notion.api_key\"]\n",
        "            },\n",
        "            \"headers\":{\n",
        "            \"Content-Type\": \"application/json\",\n",
        "            \"Notion-Version\": \"2022-06-28\"\n",
        "            }\n",
        "        },\n",
        "        \"resources\": [\n",
        "            {\n",
        "                \"name\": \"search\",\n",
        "                \"endpoint\": {\n",
        "                    \"path\": \"search\",\n",
        "                    \"method\": \"POST\",\n",
        "                    \"paginator\": PostBodyPaginator(),\n",
        "                    \"json\": {\n",
        "\n",
        "                        # 1. Modify the REST API source to extract only \"homework\" page.\n",
        "                        \"query\": \"homework\", # \"query\": \"workshop\",\n",
        "                        \"sort\": {\n",
        "                            \"direction\": \"ascending\",\n",
        "                            \"timestamp\": \"last_edited_time\"\n",
        "                        }\n",
        "                    },\n",
        "                    \"data_selector\": \"results\"\n",
        "                }\n",
        "            },\n",
        "            {\n",
        "                \"name\": \"page_content\",\n",
        "                \"endpoint\": {\n",
        "                    \"path\": \"blocks/{page_id}/children\",\n",
        "                    \"paginator\": JSONResponsePaginator(),\n",
        "                    \"params\": {\n",
        "                        \"page_id\": {\n",
        "                            \"type\": \"resolve\",\n",
        "                            \"resource\": \"search\",\n",
        "                            \"field\": \"id\"\n",
        "                        }\n",
        "                    },\n",
        "                }\n",
        "            }\n",
        "        ]\n",
        "    }\n",
        "\n",
        "    yield from rest_api_source(notion_config,name=\"employee_handbook\")\n",
        "\n",
        "def extract_page_content(response):\n",
        "    block_id = response[\"id\"]\n",
        "    last_edited_time = response[\"last_edited_time\"]\n",
        "    block_type = response.get(\"type\", \"Not paragraph\")\n",
        "    if block_type != \"paragraph\":\n",
        "        content = \"\"\n",
        "    else:\n",
        "        try:\n",
        "            content = response[\"paragraph\"][\"rich_text\"][0][\"plain_text\"]\n",
        "        except IndexError:\n",
        "            content = \"\"\n",
        "    return {\n",
        "        \"block_id\": block_id,\n",
        "        \"block_type\": block_type,\n",
        "        \"content\": content,\n",
        "        \"last_edited_time\": last_edited_time,\n",
        "        \"inserted_at_time\": datetime.now(timezone.utc)\n",
        "    }\n",
        "\n",
        "@dlt.resource(\n",
        "    name=\"employee_handbook\",\n",
        "    write_disposition=\"merge\",\n",
        "    primary_key=\"block_id\",\n",
        "    columns={\"last_edited_time\":{\"dedup_sort\":\"desc\"}}\n",
        "    )\n",
        "def rest_api_notion_incremental(\n",
        "    last_edited_time = dlt.sources.incremental(\"last_edited_time\", initial_value=\"2024-06-26T08:16:00.000Z\",primary_key=(\"block_id\"))\n",
        "):\n",
        "    # last_value = last_edited_time.last_value\n",
        "    # print(last_value)\n",
        "\n",
        "    for block in rest_api_notion_resource.add_map(extract_page_content):\n",
        "        if not(len(block[\"content\"])):\n",
        "            continue\n",
        "        yield block\n",
        "\n",
        "def load_notion() -> None:\n",
        "    pipeline = dlt.pipeline(\n",
        "        pipeline_name=\"company_policies\",\n",
        "        destination=\"lancedb\",\n",
        "        dataset_name=\"notion_pages\",\n",
        "        # full_refresh=True\n",
        "    )\n",
        "\n",
        "    load_info = pipeline.run(\n",
        "        lancedb_adapter(\n",
        "            rest_api_notion_incremental,\n",
        "            embed=\"content\"\n",
        "        ),\n",
        "        # 2. Write the output into a separate table called \"homework\".\n",
        "        table_name=\"homework\", #table_name=\"employee_handbook\",\n",
        "        write_disposition=\"merge\"\n",
        "    )\n",
        "    print(load_info)\n",
        "\n",
        "load_notion()"
      ],
      "metadata": {
        "colab": {
          "base_uri": "https://localhost:8080/"
        },
        "id": "3RzeKOoNUsyL",
        "outputId": "b1b7c125-11d0-4fd0-90e8-c1e244b8bef5"
      },
      "execution_count": 9,
      "outputs": [
        {
          "output_type": "stream",
          "name": "stdout",
          "text": [
            "Pipeline company_policies load step completed in ---\n",
            "0 load package(s) were loaded to destination LanceDB and into dataset None\n",
            "The LanceDB destination used <dlt.destinations.impl.lancedb.configuration.LanceDBCredentials object at 0x79309c14ae30> location to store data\n"
          ]
        }
      ]
    },
    {
      "cell_type": "markdown",
      "source": [
        "### Q1. Rows in LanceDB\n",
        "How many rows does the lancedb table \"notion_pages__homework\" have?\n",
        "\n",
        "* 14\n",
        "* 15\n",
        "* 16\n",
        "* 17"
      ],
      "metadata": {
        "id": "HFvrENiBFw0q"
      }
    },
    {
      "cell_type": "code",
      "source": [
        "import lancedb\n",
        "\n",
        "db = lancedb.connect(\".lancedb\")\n",
        "# dbtable = db.open_table(\"notion_pages___employee_handbook\")\n",
        "dbtable = db.open_table(\"notion_pages___homework\") # 3. Remember to update the table name in all cells where you connect to a lancedb table.\n",
        "\n",
        "df_homework = dbtable.to_pandas()\n",
        "print(df_homework.info())\n",
        "df_homework"
      ],
      "metadata": {
        "colab": {
          "base_uri": "https://localhost:8080/",
          "height": 1000
        },
        "id": "B7hsT5i8Y24S",
        "outputId": "64ab5bfe-eee1-45d1-f979-419f1ba173aa"
      },
      "execution_count": 10,
      "outputs": [
        {
          "output_type": "stream",
          "name": "stdout",
          "text": [
            "<class 'pandas.core.frame.DataFrame'>\n",
            "RangeIndex: 17 entries, 0 to 16\n",
            "Data columns (total 9 columns):\n",
            " #   Column            Non-Null Count  Dtype              \n",
            "---  ------            --------------  -----              \n",
            " 0   id__              17 non-null     object             \n",
            " 1   vector__          17 non-null     object             \n",
            " 2   block_id          17 non-null     object             \n",
            " 3   block_type        17 non-null     object             \n",
            " 4   content           17 non-null     object             \n",
            " 5   last_edited_time  17 non-null     datetime64[us, UTC]\n",
            " 6   inserted_at_time  17 non-null     datetime64[us, UTC]\n",
            " 7   _dlt_load_id      17 non-null     object             \n",
            " 8   _dlt_id           17 non-null     object             \n",
            "dtypes: datetime64[us, UTC](2), object(7)\n",
            "memory usage: 1.3+ KB\n",
            "None\n"
          ]
        },
        {
          "output_type": "execute_result",
          "data": {
            "text/plain": [
              "                                    id__  \\\n",
              "0   c69f1ecf-7b02-5810-8286-3f42659ae9d4   \n",
              "1   f2c18ac0-50f5-5b72-a871-dc5a46780353   \n",
              "2   4553193e-c655-54df-9a33-cfc570bf34d0   \n",
              "3   791be1a1-6c67-530d-87ab-bd9912500ea5   \n",
              "4   a83497f4-922c-5d62-bab1-53804e93c811   \n",
              "5   434b71e9-a11a-519d-a9fe-e3ade78d47d6   \n",
              "6   17816363-54b7-5ba7-b8d5-06d871a25414   \n",
              "7   2a434cf9-09d9-5514-a88b-02977f2f953e   \n",
              "8   5f9384fa-7f98-5f52-a06e-05b05f42f69a   \n",
              "9   42af72f6-9db7-54a2-87b2-d466169078ff   \n",
              "10  8bfc36ce-cdb0-5792-bd70-d12ff22fc227   \n",
              "11  b1737a97-6dca-564c-a169-78e306a5e124   \n",
              "12  896f7ed8-e918-54f3-a7b8-565d53d6d22b   \n",
              "13  3557e3dd-de5b-51b9-bdee-b53ba588ed60   \n",
              "14  c51f99bf-5057-572e-bf9e-25dc03014c79   \n",
              "15  0317522c-a6db-59e8-ba5f-5ff0dc960d2e   \n",
              "16  4d0eb4d7-f0ad-517c-8165-7eb7932ea0ed   \n",
              "\n",
              "                                             vector__  \\\n",
              "0   [-0.024265556, 0.04746074, -0.01179647, 0.0638...   \n",
              "1   [-0.04966156, 0.10853508, -0.009762607, -0.036...   \n",
              "2   [-0.06316319, 0.17331503, 0.025351755, -0.0191...   \n",
              "3   [-0.109743185, 0.10586075, 0.003290699, -0.021...   \n",
              "4   [0.05242333, -0.064576, 0.06586297, 0.01454380...   \n",
              "5   [0.00052337867, -0.054883413, 0.043573413, -0....   \n",
              "6   [0.03802633, -0.021509705, 0.04752782, 0.06470...   \n",
              "7   [-0.05858811, -0.07540446, 0.033775203, 0.0096...   \n",
              "8   [-0.013599302, 0.0047530197, 0.024835136, 0.01...   \n",
              "9   [0.032060888, 0.024244698, 0.008471344, 0.0317...   \n",
              "10  [-0.0131553095, 0.008382407, 0.017044391, 0.05...   \n",
              "11  [0.027987516, 0.067343615, 0.03980646, 0.00774...   \n",
              "12  [0.03252615, 0.008159476, 0.08443566, 0.055641...   \n",
              "13  [-0.007314052, 0.014710642, -0.019091193, 0.02...   \n",
              "14  [-0.031538427, 0.0342599, -0.027282646, 0.0275...   \n",
              "15  [-0.017366946, 0.060790583, 0.01576997, -0.014...   \n",
              "16  [0.033655368, 0.035742417, 0.039310906, 0.0037...   \n",
              "\n",
              "                                block_id block_type  \\\n",
              "0   a8196881-ae94-4767-8767-92fe1a327d24  paragraph   \n",
              "1   31fcbf26-2ca5-468a-8af8-d7eb4c2db8c8  paragraph   \n",
              "2   da7721fd-3d0f-4c04-bc5e-825ad60bed1c  paragraph   \n",
              "3   ff36dcf3-5faa-40b4-ad8e-92fdc952201e  paragraph   \n",
              "4   a1ff9697-4bb6-4f1e-b464-dda296dbd307  paragraph   \n",
              "5   e4ec9f4d-b687-4c28-a80d-985bfabcc2ba  paragraph   \n",
              "6   e6e550dc-b59e-4928-abd7-07eace948681  paragraph   \n",
              "7   a269d0ca-ce14-481b-a5f4-9192d6840d6e  paragraph   \n",
              "8   5b65f3e7-0a37-429a-818d-f99b53755ebd  paragraph   \n",
              "9   b27f7d80-f2f1-460e-aa0c-b8e770cf050a  paragraph   \n",
              "10  cf2c7276-9d6d-4611-97ef-e7707a668176  paragraph   \n",
              "11  79fd88bb-894c-4db3-961e-f2e9fa571399  paragraph   \n",
              "12  0b5f3660-7867-41ea-ae25-95585c3bb34e  paragraph   \n",
              "13  3153e9cf-44bf-4ec1-b835-67d37731f9bc  paragraph   \n",
              "14  b9d67165-1028-4edc-841b-fe2fd4cf0cf7  paragraph   \n",
              "15  72d2f585-a1b4-461e-ad88-45d9e3346425  paragraph   \n",
              "16  b1a9a976-eef2-4c99-9f57-3e5adb873d1f  paragraph   \n",
              "\n",
              "                                              content  \\\n",
              "0   We owe our success to our employees. To show o...   \n",
              "1   We want to ensure that private information abo...   \n",
              "2   Employee health is important to us. We don’t d...   \n",
              "3   Our company is dedicated to maintaining a safe...   \n",
              "4   If your job doesn’t require you to be present ...   \n",
              "5   Remote working refers to working from a non-of...   \n",
              "6   There are some expenses that we will pay direc...   \n",
              "7   Our company operates between 9 a.m. to 7 p.m. ...   \n",
              "8   In this section, we are going to be covering i...   \n",
              "9   Our company observes the following holidays: N...   \n",
              "10  These holidays are considered “off-days” for m...   \n",
              "11  Employees who are unable to work due to illnes...   \n",
              "12  Losing a loved one is traumatizing. If this ha...   \n",
              "13  In accordance with German law, we offer a comp...   \n",
              "14  We recognize the vital role that fathers and p...   \n",
              "15  Our company’s official dress code is Business ...   \n",
              "16  If you want to invite a visitor to our offices...   \n",
              "\n",
              "            last_edited_time                 inserted_at_time  \\\n",
              "0  2024-07-05 22:34:00+00:00 2024-07-16 10:22:56.607458+00:00   \n",
              "1  2024-07-05 22:38:00+00:00 2024-07-16 10:22:56.611595+00:00   \n",
              "2  2024-07-05 22:52:00+00:00 2024-07-16 10:22:56.611873+00:00   \n",
              "3  2024-07-05 22:52:00+00:00 2024-07-16 10:22:56.612037+00:00   \n",
              "4  2024-07-05 22:52:00+00:00 2024-07-16 10:22:56.612194+00:00   \n",
              "5  2024-07-05 22:52:00+00:00 2024-07-16 10:22:56.612359+00:00   \n",
              "6  2024-07-05 22:52:00+00:00 2024-07-16 10:22:56.612517+00:00   \n",
              "7  2024-07-05 22:52:00+00:00 2024-07-16 10:22:56.612692+00:00   \n",
              "8  2024-07-05 23:33:00+00:00 2024-07-16 10:22:56.612864+00:00   \n",
              "9  2024-07-05 22:52:00+00:00 2024-07-16 10:22:56.613010+00:00   \n",
              "10 2024-07-05 22:52:00+00:00 2024-07-16 10:22:56.613154+00:00   \n",
              "11 2024-07-05 22:52:00+00:00 2024-07-16 10:22:56.613301+00:00   \n",
              "12 2024-07-05 22:52:00+00:00 2024-07-16 10:22:56.613444+00:00   \n",
              "13 2024-07-05 22:52:00+00:00 2024-07-16 10:22:56.613585+00:00   \n",
              "14 2024-07-05 22:52:00+00:00 2024-07-16 10:22:56.613738+00:00   \n",
              "15 2024-07-05 22:54:00+00:00 2024-07-16 10:22:56.613882+00:00   \n",
              "16 2024-07-05 22:56:00+00:00 2024-07-16 10:22:56.614023+00:00   \n",
              "\n",
              "          _dlt_load_id         _dlt_id  \n",
              "0   1721125375.5811174  WC+He4IxkTuQVA  \n",
              "1   1721125375.5811174  vmhEqTgXmakjvA  \n",
              "2   1721125375.5811174  rSYEIpZQyHfl3g  \n",
              "3   1721125375.5811174  wIp1w3TBaScmGg  \n",
              "4   1721125375.5811174  +JAIk+hBPIePnw  \n",
              "5   1721125375.5811174  sD6/FPESz4jp5A  \n",
              "6   1721125375.5811174  Qtw4mvwcqQKXTA  \n",
              "7   1721125375.5811174  s/ZY2MUCo+ejGw  \n",
              "8   1721125375.5811174  jlT+a1SlHm6gLQ  \n",
              "9   1721125375.5811174  bRqqNBDg6aMzuw  \n",
              "10  1721125375.5811174  RQqqy1uTu3kDxw  \n",
              "11  1721125375.5811174  es6HlNxVWG7U1A  \n",
              "12  1721125375.5811174  AwUMskRk+x4VOw  \n",
              "13  1721125375.5811174  dO9Q1m87xSqEPg  \n",
              "14  1721125375.5811174  /sMuQN/9edJaVw  \n",
              "15  1721125375.5811174  +wNNvqSIeoZh8Q  \n",
              "16  1721125375.5811174  ik/E6Fu1lF13gw  "
            ],
            "text/html": [
              "\n",
              "  <div id=\"df-0d9ca94d-9168-46ed-b01c-87d94d2c01b8\" class=\"colab-df-container\">\n",
              "    <div>\n",
              "<style scoped>\n",
              "    .dataframe tbody tr th:only-of-type {\n",
              "        vertical-align: middle;\n",
              "    }\n",
              "\n",
              "    .dataframe tbody tr th {\n",
              "        vertical-align: top;\n",
              "    }\n",
              "\n",
              "    .dataframe thead th {\n",
              "        text-align: right;\n",
              "    }\n",
              "</style>\n",
              "<table border=\"1\" class=\"dataframe\">\n",
              "  <thead>\n",
              "    <tr style=\"text-align: right;\">\n",
              "      <th></th>\n",
              "      <th>id__</th>\n",
              "      <th>vector__</th>\n",
              "      <th>block_id</th>\n",
              "      <th>block_type</th>\n",
              "      <th>content</th>\n",
              "      <th>last_edited_time</th>\n",
              "      <th>inserted_at_time</th>\n",
              "      <th>_dlt_load_id</th>\n",
              "      <th>_dlt_id</th>\n",
              "    </tr>\n",
              "  </thead>\n",
              "  <tbody>\n",
              "    <tr>\n",
              "      <th>0</th>\n",
              "      <td>c69f1ecf-7b02-5810-8286-3f42659ae9d4</td>\n",
              "      <td>[-0.024265556, 0.04746074, -0.01179647, 0.0638...</td>\n",
              "      <td>a8196881-ae94-4767-8767-92fe1a327d24</td>\n",
              "      <td>paragraph</td>\n",
              "      <td>We owe our success to our employees. To show o...</td>\n",
              "      <td>2024-07-05 22:34:00+00:00</td>\n",
              "      <td>2024-07-16 10:22:56.607458+00:00</td>\n",
              "      <td>1721125375.5811174</td>\n",
              "      <td>WC+He4IxkTuQVA</td>\n",
              "    </tr>\n",
              "    <tr>\n",
              "      <th>1</th>\n",
              "      <td>f2c18ac0-50f5-5b72-a871-dc5a46780353</td>\n",
              "      <td>[-0.04966156, 0.10853508, -0.009762607, -0.036...</td>\n",
              "      <td>31fcbf26-2ca5-468a-8af8-d7eb4c2db8c8</td>\n",
              "      <td>paragraph</td>\n",
              "      <td>We want to ensure that private information abo...</td>\n",
              "      <td>2024-07-05 22:38:00+00:00</td>\n",
              "      <td>2024-07-16 10:22:56.611595+00:00</td>\n",
              "      <td>1721125375.5811174</td>\n",
              "      <td>vmhEqTgXmakjvA</td>\n",
              "    </tr>\n",
              "    <tr>\n",
              "      <th>2</th>\n",
              "      <td>4553193e-c655-54df-9a33-cfc570bf34d0</td>\n",
              "      <td>[-0.06316319, 0.17331503, 0.025351755, -0.0191...</td>\n",
              "      <td>da7721fd-3d0f-4c04-bc5e-825ad60bed1c</td>\n",
              "      <td>paragraph</td>\n",
              "      <td>Employee health is important to us. We don’t d...</td>\n",
              "      <td>2024-07-05 22:52:00+00:00</td>\n",
              "      <td>2024-07-16 10:22:56.611873+00:00</td>\n",
              "      <td>1721125375.5811174</td>\n",
              "      <td>rSYEIpZQyHfl3g</td>\n",
              "    </tr>\n",
              "    <tr>\n",
              "      <th>3</th>\n",
              "      <td>791be1a1-6c67-530d-87ab-bd9912500ea5</td>\n",
              "      <td>[-0.109743185, 0.10586075, 0.003290699, -0.021...</td>\n",
              "      <td>ff36dcf3-5faa-40b4-ad8e-92fdc952201e</td>\n",
              "      <td>paragraph</td>\n",
              "      <td>Our company is dedicated to maintaining a safe...</td>\n",
              "      <td>2024-07-05 22:52:00+00:00</td>\n",
              "      <td>2024-07-16 10:22:56.612037+00:00</td>\n",
              "      <td>1721125375.5811174</td>\n",
              "      <td>wIp1w3TBaScmGg</td>\n",
              "    </tr>\n",
              "    <tr>\n",
              "      <th>4</th>\n",
              "      <td>a83497f4-922c-5d62-bab1-53804e93c811</td>\n",
              "      <td>[0.05242333, -0.064576, 0.06586297, 0.01454380...</td>\n",
              "      <td>a1ff9697-4bb6-4f1e-b464-dda296dbd307</td>\n",
              "      <td>paragraph</td>\n",
              "      <td>If your job doesn’t require you to be present ...</td>\n",
              "      <td>2024-07-05 22:52:00+00:00</td>\n",
              "      <td>2024-07-16 10:22:56.612194+00:00</td>\n",
              "      <td>1721125375.5811174</td>\n",
              "      <td>+JAIk+hBPIePnw</td>\n",
              "    </tr>\n",
              "    <tr>\n",
              "      <th>5</th>\n",
              "      <td>434b71e9-a11a-519d-a9fe-e3ade78d47d6</td>\n",
              "      <td>[0.00052337867, -0.054883413, 0.043573413, -0....</td>\n",
              "      <td>e4ec9f4d-b687-4c28-a80d-985bfabcc2ba</td>\n",
              "      <td>paragraph</td>\n",
              "      <td>Remote working refers to working from a non-of...</td>\n",
              "      <td>2024-07-05 22:52:00+00:00</td>\n",
              "      <td>2024-07-16 10:22:56.612359+00:00</td>\n",
              "      <td>1721125375.5811174</td>\n",
              "      <td>sD6/FPESz4jp5A</td>\n",
              "    </tr>\n",
              "    <tr>\n",
              "      <th>6</th>\n",
              "      <td>17816363-54b7-5ba7-b8d5-06d871a25414</td>\n",
              "      <td>[0.03802633, -0.021509705, 0.04752782, 0.06470...</td>\n",
              "      <td>e6e550dc-b59e-4928-abd7-07eace948681</td>\n",
              "      <td>paragraph</td>\n",
              "      <td>There are some expenses that we will pay direc...</td>\n",
              "      <td>2024-07-05 22:52:00+00:00</td>\n",
              "      <td>2024-07-16 10:22:56.612517+00:00</td>\n",
              "      <td>1721125375.5811174</td>\n",
              "      <td>Qtw4mvwcqQKXTA</td>\n",
              "    </tr>\n",
              "    <tr>\n",
              "      <th>7</th>\n",
              "      <td>2a434cf9-09d9-5514-a88b-02977f2f953e</td>\n",
              "      <td>[-0.05858811, -0.07540446, 0.033775203, 0.0096...</td>\n",
              "      <td>a269d0ca-ce14-481b-a5f4-9192d6840d6e</td>\n",
              "      <td>paragraph</td>\n",
              "      <td>Our company operates between 9 a.m. to 7 p.m. ...</td>\n",
              "      <td>2024-07-05 22:52:00+00:00</td>\n",
              "      <td>2024-07-16 10:22:56.612692+00:00</td>\n",
              "      <td>1721125375.5811174</td>\n",
              "      <td>s/ZY2MUCo+ejGw</td>\n",
              "    </tr>\n",
              "    <tr>\n",
              "      <th>8</th>\n",
              "      <td>5f9384fa-7f98-5f52-a06e-05b05f42f69a</td>\n",
              "      <td>[-0.013599302, 0.0047530197, 0.024835136, 0.01...</td>\n",
              "      <td>5b65f3e7-0a37-429a-818d-f99b53755ebd</td>\n",
              "      <td>paragraph</td>\n",
              "      <td>In this section, we are going to be covering i...</td>\n",
              "      <td>2024-07-05 23:33:00+00:00</td>\n",
              "      <td>2024-07-16 10:22:56.612864+00:00</td>\n",
              "      <td>1721125375.5811174</td>\n",
              "      <td>jlT+a1SlHm6gLQ</td>\n",
              "    </tr>\n",
              "    <tr>\n",
              "      <th>9</th>\n",
              "      <td>42af72f6-9db7-54a2-87b2-d466169078ff</td>\n",
              "      <td>[0.032060888, 0.024244698, 0.008471344, 0.0317...</td>\n",
              "      <td>b27f7d80-f2f1-460e-aa0c-b8e770cf050a</td>\n",
              "      <td>paragraph</td>\n",
              "      <td>Our company observes the following holidays: N...</td>\n",
              "      <td>2024-07-05 22:52:00+00:00</td>\n",
              "      <td>2024-07-16 10:22:56.613010+00:00</td>\n",
              "      <td>1721125375.5811174</td>\n",
              "      <td>bRqqNBDg6aMzuw</td>\n",
              "    </tr>\n",
              "    <tr>\n",
              "      <th>10</th>\n",
              "      <td>8bfc36ce-cdb0-5792-bd70-d12ff22fc227</td>\n",
              "      <td>[-0.0131553095, 0.008382407, 0.017044391, 0.05...</td>\n",
              "      <td>cf2c7276-9d6d-4611-97ef-e7707a668176</td>\n",
              "      <td>paragraph</td>\n",
              "      <td>These holidays are considered “off-days” for m...</td>\n",
              "      <td>2024-07-05 22:52:00+00:00</td>\n",
              "      <td>2024-07-16 10:22:56.613154+00:00</td>\n",
              "      <td>1721125375.5811174</td>\n",
              "      <td>RQqqy1uTu3kDxw</td>\n",
              "    </tr>\n",
              "    <tr>\n",
              "      <th>11</th>\n",
              "      <td>b1737a97-6dca-564c-a169-78e306a5e124</td>\n",
              "      <td>[0.027987516, 0.067343615, 0.03980646, 0.00774...</td>\n",
              "      <td>79fd88bb-894c-4db3-961e-f2e9fa571399</td>\n",
              "      <td>paragraph</td>\n",
              "      <td>Employees who are unable to work due to illnes...</td>\n",
              "      <td>2024-07-05 22:52:00+00:00</td>\n",
              "      <td>2024-07-16 10:22:56.613301+00:00</td>\n",
              "      <td>1721125375.5811174</td>\n",
              "      <td>es6HlNxVWG7U1A</td>\n",
              "    </tr>\n",
              "    <tr>\n",
              "      <th>12</th>\n",
              "      <td>896f7ed8-e918-54f3-a7b8-565d53d6d22b</td>\n",
              "      <td>[0.03252615, 0.008159476, 0.08443566, 0.055641...</td>\n",
              "      <td>0b5f3660-7867-41ea-ae25-95585c3bb34e</td>\n",
              "      <td>paragraph</td>\n",
              "      <td>Losing a loved one is traumatizing. If this ha...</td>\n",
              "      <td>2024-07-05 22:52:00+00:00</td>\n",
              "      <td>2024-07-16 10:22:56.613444+00:00</td>\n",
              "      <td>1721125375.5811174</td>\n",
              "      <td>AwUMskRk+x4VOw</td>\n",
              "    </tr>\n",
              "    <tr>\n",
              "      <th>13</th>\n",
              "      <td>3557e3dd-de5b-51b9-bdee-b53ba588ed60</td>\n",
              "      <td>[-0.007314052, 0.014710642, -0.019091193, 0.02...</td>\n",
              "      <td>3153e9cf-44bf-4ec1-b835-67d37731f9bc</td>\n",
              "      <td>paragraph</td>\n",
              "      <td>In accordance with German law, we offer a comp...</td>\n",
              "      <td>2024-07-05 22:52:00+00:00</td>\n",
              "      <td>2024-07-16 10:22:56.613585+00:00</td>\n",
              "      <td>1721125375.5811174</td>\n",
              "      <td>dO9Q1m87xSqEPg</td>\n",
              "    </tr>\n",
              "    <tr>\n",
              "      <th>14</th>\n",
              "      <td>c51f99bf-5057-572e-bf9e-25dc03014c79</td>\n",
              "      <td>[-0.031538427, 0.0342599, -0.027282646, 0.0275...</td>\n",
              "      <td>b9d67165-1028-4edc-841b-fe2fd4cf0cf7</td>\n",
              "      <td>paragraph</td>\n",
              "      <td>We recognize the vital role that fathers and p...</td>\n",
              "      <td>2024-07-05 22:52:00+00:00</td>\n",
              "      <td>2024-07-16 10:22:56.613738+00:00</td>\n",
              "      <td>1721125375.5811174</td>\n",
              "      <td>/sMuQN/9edJaVw</td>\n",
              "    </tr>\n",
              "    <tr>\n",
              "      <th>15</th>\n",
              "      <td>0317522c-a6db-59e8-ba5f-5ff0dc960d2e</td>\n",
              "      <td>[-0.017366946, 0.060790583, 0.01576997, -0.014...</td>\n",
              "      <td>72d2f585-a1b4-461e-ad88-45d9e3346425</td>\n",
              "      <td>paragraph</td>\n",
              "      <td>Our company’s official dress code is Business ...</td>\n",
              "      <td>2024-07-05 22:54:00+00:00</td>\n",
              "      <td>2024-07-16 10:22:56.613882+00:00</td>\n",
              "      <td>1721125375.5811174</td>\n",
              "      <td>+wNNvqSIeoZh8Q</td>\n",
              "    </tr>\n",
              "    <tr>\n",
              "      <th>16</th>\n",
              "      <td>4d0eb4d7-f0ad-517c-8165-7eb7932ea0ed</td>\n",
              "      <td>[0.033655368, 0.035742417, 0.039310906, 0.0037...</td>\n",
              "      <td>b1a9a976-eef2-4c99-9f57-3e5adb873d1f</td>\n",
              "      <td>paragraph</td>\n",
              "      <td>If you want to invite a visitor to our offices...</td>\n",
              "      <td>2024-07-05 22:56:00+00:00</td>\n",
              "      <td>2024-07-16 10:22:56.614023+00:00</td>\n",
              "      <td>1721125375.5811174</td>\n",
              "      <td>ik/E6Fu1lF13gw</td>\n",
              "    </tr>\n",
              "  </tbody>\n",
              "</table>\n",
              "</div>\n",
              "    <div class=\"colab-df-buttons\">\n",
              "\n",
              "  <div class=\"colab-df-container\">\n",
              "    <button class=\"colab-df-convert\" onclick=\"convertToInteractive('df-0d9ca94d-9168-46ed-b01c-87d94d2c01b8')\"\n",
              "            title=\"Convert this dataframe to an interactive table.\"\n",
              "            style=\"display:none;\">\n",
              "\n",
              "  <svg xmlns=\"http://www.w3.org/2000/svg\" height=\"24px\" viewBox=\"0 -960 960 960\">\n",
              "    <path d=\"M120-120v-720h720v720H120Zm60-500h600v-160H180v160Zm220 220h160v-160H400v160Zm0 220h160v-160H400v160ZM180-400h160v-160H180v160Zm440 0h160v-160H620v160ZM180-180h160v-160H180v160Zm440 0h160v-160H620v160Z\"/>\n",
              "  </svg>\n",
              "    </button>\n",
              "\n",
              "  <style>\n",
              "    .colab-df-container {\n",
              "      display:flex;\n",
              "      gap: 12px;\n",
              "    }\n",
              "\n",
              "    .colab-df-convert {\n",
              "      background-color: #E8F0FE;\n",
              "      border: none;\n",
              "      border-radius: 50%;\n",
              "      cursor: pointer;\n",
              "      display: none;\n",
              "      fill: #1967D2;\n",
              "      height: 32px;\n",
              "      padding: 0 0 0 0;\n",
              "      width: 32px;\n",
              "    }\n",
              "\n",
              "    .colab-df-convert:hover {\n",
              "      background-color: #E2EBFA;\n",
              "      box-shadow: 0px 1px 2px rgba(60, 64, 67, 0.3), 0px 1px 3px 1px rgba(60, 64, 67, 0.15);\n",
              "      fill: #174EA6;\n",
              "    }\n",
              "\n",
              "    .colab-df-buttons div {\n",
              "      margin-bottom: 4px;\n",
              "    }\n",
              "\n",
              "    [theme=dark] .colab-df-convert {\n",
              "      background-color: #3B4455;\n",
              "      fill: #D2E3FC;\n",
              "    }\n",
              "\n",
              "    [theme=dark] .colab-df-convert:hover {\n",
              "      background-color: #434B5C;\n",
              "      box-shadow: 0px 1px 3px 1px rgba(0, 0, 0, 0.15);\n",
              "      filter: drop-shadow(0px 1px 2px rgba(0, 0, 0, 0.3));\n",
              "      fill: #FFFFFF;\n",
              "    }\n",
              "  </style>\n",
              "\n",
              "    <script>\n",
              "      const buttonEl =\n",
              "        document.querySelector('#df-0d9ca94d-9168-46ed-b01c-87d94d2c01b8 button.colab-df-convert');\n",
              "      buttonEl.style.display =\n",
              "        google.colab.kernel.accessAllowed ? 'block' : 'none';\n",
              "\n",
              "      async function convertToInteractive(key) {\n",
              "        const element = document.querySelector('#df-0d9ca94d-9168-46ed-b01c-87d94d2c01b8');\n",
              "        const dataTable =\n",
              "          await google.colab.kernel.invokeFunction('convertToInteractive',\n",
              "                                                    [key], {});\n",
              "        if (!dataTable) return;\n",
              "\n",
              "        const docLinkHtml = 'Like what you see? Visit the ' +\n",
              "          '<a target=\"_blank\" href=https://colab.research.google.com/notebooks/data_table.ipynb>data table notebook</a>'\n",
              "          + ' to learn more about interactive tables.';\n",
              "        element.innerHTML = '';\n",
              "        dataTable['output_type'] = 'display_data';\n",
              "        await google.colab.output.renderOutput(dataTable, element);\n",
              "        const docLink = document.createElement('div');\n",
              "        docLink.innerHTML = docLinkHtml;\n",
              "        element.appendChild(docLink);\n",
              "      }\n",
              "    </script>\n",
              "  </div>\n",
              "\n",
              "\n",
              "<div id=\"df-1a2a8360-54db-45c1-8b42-82d80a7efeb4\">\n",
              "  <button class=\"colab-df-quickchart\" onclick=\"quickchart('df-1a2a8360-54db-45c1-8b42-82d80a7efeb4')\"\n",
              "            title=\"Suggest charts\"\n",
              "            style=\"display:none;\">\n",
              "\n",
              "<svg xmlns=\"http://www.w3.org/2000/svg\" height=\"24px\"viewBox=\"0 0 24 24\"\n",
              "     width=\"24px\">\n",
              "    <g>\n",
              "        <path d=\"M19 3H5c-1.1 0-2 .9-2 2v14c0 1.1.9 2 2 2h14c1.1 0 2-.9 2-2V5c0-1.1-.9-2-2-2zM9 17H7v-7h2v7zm4 0h-2V7h2v10zm4 0h-2v-4h2v4z\"/>\n",
              "    </g>\n",
              "</svg>\n",
              "  </button>\n",
              "\n",
              "<style>\n",
              "  .colab-df-quickchart {\n",
              "      --bg-color: #E8F0FE;\n",
              "      --fill-color: #1967D2;\n",
              "      --hover-bg-color: #E2EBFA;\n",
              "      --hover-fill-color: #174EA6;\n",
              "      --disabled-fill-color: #AAA;\n",
              "      --disabled-bg-color: #DDD;\n",
              "  }\n",
              "\n",
              "  [theme=dark] .colab-df-quickchart {\n",
              "      --bg-color: #3B4455;\n",
              "      --fill-color: #D2E3FC;\n",
              "      --hover-bg-color: #434B5C;\n",
              "      --hover-fill-color: #FFFFFF;\n",
              "      --disabled-bg-color: #3B4455;\n",
              "      --disabled-fill-color: #666;\n",
              "  }\n",
              "\n",
              "  .colab-df-quickchart {\n",
              "    background-color: var(--bg-color);\n",
              "    border: none;\n",
              "    border-radius: 50%;\n",
              "    cursor: pointer;\n",
              "    display: none;\n",
              "    fill: var(--fill-color);\n",
              "    height: 32px;\n",
              "    padding: 0;\n",
              "    width: 32px;\n",
              "  }\n",
              "\n",
              "  .colab-df-quickchart:hover {\n",
              "    background-color: var(--hover-bg-color);\n",
              "    box-shadow: 0 1px 2px rgba(60, 64, 67, 0.3), 0 1px 3px 1px rgba(60, 64, 67, 0.15);\n",
              "    fill: var(--button-hover-fill-color);\n",
              "  }\n",
              "\n",
              "  .colab-df-quickchart-complete:disabled,\n",
              "  .colab-df-quickchart-complete:disabled:hover {\n",
              "    background-color: var(--disabled-bg-color);\n",
              "    fill: var(--disabled-fill-color);\n",
              "    box-shadow: none;\n",
              "  }\n",
              "\n",
              "  .colab-df-spinner {\n",
              "    border: 2px solid var(--fill-color);\n",
              "    border-color: transparent;\n",
              "    border-bottom-color: var(--fill-color);\n",
              "    animation:\n",
              "      spin 1s steps(1) infinite;\n",
              "  }\n",
              "\n",
              "  @keyframes spin {\n",
              "    0% {\n",
              "      border-color: transparent;\n",
              "      border-bottom-color: var(--fill-color);\n",
              "      border-left-color: var(--fill-color);\n",
              "    }\n",
              "    20% {\n",
              "      border-color: transparent;\n",
              "      border-left-color: var(--fill-color);\n",
              "      border-top-color: var(--fill-color);\n",
              "    }\n",
              "    30% {\n",
              "      border-color: transparent;\n",
              "      border-left-color: var(--fill-color);\n",
              "      border-top-color: var(--fill-color);\n",
              "      border-right-color: var(--fill-color);\n",
              "    }\n",
              "    40% {\n",
              "      border-color: transparent;\n",
              "      border-right-color: var(--fill-color);\n",
              "      border-top-color: var(--fill-color);\n",
              "    }\n",
              "    60% {\n",
              "      border-color: transparent;\n",
              "      border-right-color: var(--fill-color);\n",
              "    }\n",
              "    80% {\n",
              "      border-color: transparent;\n",
              "      border-right-color: var(--fill-color);\n",
              "      border-bottom-color: var(--fill-color);\n",
              "    }\n",
              "    90% {\n",
              "      border-color: transparent;\n",
              "      border-bottom-color: var(--fill-color);\n",
              "    }\n",
              "  }\n",
              "</style>\n",
              "\n",
              "  <script>\n",
              "    async function quickchart(key) {\n",
              "      const quickchartButtonEl =\n",
              "        document.querySelector('#' + key + ' button');\n",
              "      quickchartButtonEl.disabled = true;  // To prevent multiple clicks.\n",
              "      quickchartButtonEl.classList.add('colab-df-spinner');\n",
              "      try {\n",
              "        const charts = await google.colab.kernel.invokeFunction(\n",
              "            'suggestCharts', [key], {});\n",
              "      } catch (error) {\n",
              "        console.error('Error during call to suggestCharts:', error);\n",
              "      }\n",
              "      quickchartButtonEl.classList.remove('colab-df-spinner');\n",
              "      quickchartButtonEl.classList.add('colab-df-quickchart-complete');\n",
              "    }\n",
              "    (() => {\n",
              "      let quickchartButtonEl =\n",
              "        document.querySelector('#df-1a2a8360-54db-45c1-8b42-82d80a7efeb4 button');\n",
              "      quickchartButtonEl.style.display =\n",
              "        google.colab.kernel.accessAllowed ? 'block' : 'none';\n",
              "    })();\n",
              "  </script>\n",
              "</div>\n",
              "\n",
              "  <div id=\"id_7cc6222c-7901-47ee-af19-67994ae90500\">\n",
              "    <style>\n",
              "      .colab-df-generate {\n",
              "        background-color: #E8F0FE;\n",
              "        border: none;\n",
              "        border-radius: 50%;\n",
              "        cursor: pointer;\n",
              "        display: none;\n",
              "        fill: #1967D2;\n",
              "        height: 32px;\n",
              "        padding: 0 0 0 0;\n",
              "        width: 32px;\n",
              "      }\n",
              "\n",
              "      .colab-df-generate:hover {\n",
              "        background-color: #E2EBFA;\n",
              "        box-shadow: 0px 1px 2px rgba(60, 64, 67, 0.3), 0px 1px 3px 1px rgba(60, 64, 67, 0.15);\n",
              "        fill: #174EA6;\n",
              "      }\n",
              "\n",
              "      [theme=dark] .colab-df-generate {\n",
              "        background-color: #3B4455;\n",
              "        fill: #D2E3FC;\n",
              "      }\n",
              "\n",
              "      [theme=dark] .colab-df-generate:hover {\n",
              "        background-color: #434B5C;\n",
              "        box-shadow: 0px 1px 3px 1px rgba(0, 0, 0, 0.15);\n",
              "        filter: drop-shadow(0px 1px 2px rgba(0, 0, 0, 0.3));\n",
              "        fill: #FFFFFF;\n",
              "      }\n",
              "    </style>\n",
              "    <button class=\"colab-df-generate\" onclick=\"generateWithVariable('df_homework')\"\n",
              "            title=\"Generate code using this dataframe.\"\n",
              "            style=\"display:none;\">\n",
              "\n",
              "  <svg xmlns=\"http://www.w3.org/2000/svg\" height=\"24px\"viewBox=\"0 0 24 24\"\n",
              "       width=\"24px\">\n",
              "    <path d=\"M7,19H8.4L18.45,9,17,7.55,7,17.6ZM5,21V16.75L18.45,3.32a2,2,0,0,1,2.83,0l1.4,1.43a1.91,1.91,0,0,1,.58,1.4,1.91,1.91,0,0,1-.58,1.4L9.25,21ZM18.45,9,17,7.55Zm-12,3A5.31,5.31,0,0,0,4.9,8.1,5.31,5.31,0,0,0,1,6.5,5.31,5.31,0,0,0,4.9,4.9,5.31,5.31,0,0,0,6.5,1,5.31,5.31,0,0,0,8.1,4.9,5.31,5.31,0,0,0,12,6.5,5.46,5.46,0,0,0,6.5,12Z\"/>\n",
              "  </svg>\n",
              "    </button>\n",
              "    <script>\n",
              "      (() => {\n",
              "      const buttonEl =\n",
              "        document.querySelector('#id_7cc6222c-7901-47ee-af19-67994ae90500 button.colab-df-generate');\n",
              "      buttonEl.style.display =\n",
              "        google.colab.kernel.accessAllowed ? 'block' : 'none';\n",
              "\n",
              "      buttonEl.onclick = () => {\n",
              "        google.colab.notebook.generateWithVariable('df_homework');\n",
              "      }\n",
              "      })();\n",
              "    </script>\n",
              "  </div>\n",
              "\n",
              "    </div>\n",
              "  </div>\n"
            ],
            "application/vnd.google.colaboratory.intrinsic+json": {
              "type": "dataframe",
              "variable_name": "df_homework",
              "summary": "{\n  \"name\": \"df_homework\",\n  \"rows\": 17,\n  \"fields\": [\n    {\n      \"column\": \"id__\",\n      \"properties\": {\n        \"dtype\": \"string\",\n        \"num_unique_values\": 17,\n        \"samples\": [\n          \"c69f1ecf-7b02-5810-8286-3f42659ae9d4\",\n          \"f2c18ac0-50f5-5b72-a871-dc5a46780353\",\n          \"434b71e9-a11a-519d-a9fe-e3ade78d47d6\"\n        ],\n        \"semantic_type\": \"\",\n        \"description\": \"\"\n      }\n    },\n    {\n      \"column\": \"vector__\",\n      \"properties\": {\n        \"dtype\": \"object\",\n        \"semantic_type\": \"\",\n        \"description\": \"\"\n      }\n    },\n    {\n      \"column\": \"block_id\",\n      \"properties\": {\n        \"dtype\": \"string\",\n        \"num_unique_values\": 17,\n        \"samples\": [\n          \"a8196881-ae94-4767-8767-92fe1a327d24\",\n          \"31fcbf26-2ca5-468a-8af8-d7eb4c2db8c8\",\n          \"e4ec9f4d-b687-4c28-a80d-985bfabcc2ba\"\n        ],\n        \"semantic_type\": \"\",\n        \"description\": \"\"\n      }\n    },\n    {\n      \"column\": \"block_type\",\n      \"properties\": {\n        \"dtype\": \"category\",\n        \"num_unique_values\": 1,\n        \"samples\": [\n          \"paragraph\"\n        ],\n        \"semantic_type\": \"\",\n        \"description\": \"\"\n      }\n    },\n    {\n      \"column\": \"content\",\n      \"properties\": {\n        \"dtype\": \"string\",\n        \"num_unique_values\": 17,\n        \"samples\": [\n          \"We owe our success to our employees. To show our gratitude, we will invest in our employees professional development. We want employees to feel confident about improving their efficiency and productivity. We also want to help our employees achieve personal growth and success. Each employee has $1,000 annually to spend on educational activities or material. Subscriptions and books are included in this budget, unless they are necessary for you to complete your everyday duties. Send your expenses to HR by email. Apart from online courses, we offer these training opportunities: formal training sessions (individual or corporate, employee coaching and mentoring, seats at industry conferences, on-the-job training, job shadowing, job rotation. Development is a collective process. Team members and managers should regularly discuss learning needs and opportunities. And it\\u2019s HR\\u2019s responsibility to facilitate any development activities and processes.\"\n        ],\n        \"semantic_type\": \"\",\n        \"description\": \"\"\n      }\n    },\n    {\n      \"column\": \"last_edited_time\",\n      \"properties\": {\n        \"dtype\": \"date\",\n        \"min\": \"2024-07-05 22:34:00+00:00\",\n        \"max\": \"2024-07-05 23:33:00+00:00\",\n        \"num_unique_values\": 6,\n        \"samples\": [\n          \"2024-07-05 22:34:00+00:00\"\n        ],\n        \"semantic_type\": \"\",\n        \"description\": \"\"\n      }\n    },\n    {\n      \"column\": \"inserted_at_time\",\n      \"properties\": {\n        \"dtype\": \"date\",\n        \"min\": \"2024-07-16 10:22:56.607458+00:00\",\n        \"max\": \"2024-07-16 10:22:56.614023+00:00\",\n        \"num_unique_values\": 17,\n        \"samples\": [\n          \"2024-07-16 10:22:56.607458+00:00\"\n        ],\n        \"semantic_type\": \"\",\n        \"description\": \"\"\n      }\n    },\n    {\n      \"column\": \"_dlt_load_id\",\n      \"properties\": {\n        \"dtype\": \"category\",\n        \"num_unique_values\": 1,\n        \"samples\": [\n          \"1721125375.5811174\"\n        ],\n        \"semantic_type\": \"\",\n        \"description\": \"\"\n      }\n    },\n    {\n      \"column\": \"_dlt_id\",\n      \"properties\": {\n        \"dtype\": \"string\",\n        \"num_unique_values\": 17,\n        \"samples\": [\n          \"WC+He4IxkTuQVA\"\n        ],\n        \"semantic_type\": \"\",\n        \"description\": \"\"\n      }\n    }\n  ]\n}"
            }
          },
          "metadata": {},
          "execution_count": 10
        }
      ]
    },
    {
      "cell_type": "markdown",
      "source": [
        " ---"
      ],
      "metadata": {
        "id": "-4e3NR7a06eE"
      }
    },
    {
      "cell_type": "markdown",
      "source": [
        "### Q2. Running the Pipeline: Last edited time\n",
        "In the demo, we created an incremental dlt resource ```rest_api_notion_incremental``` that keeps track of ```last_edited_time```. What value does it store after you've run your pipeline once? (Hint: you will be able to get this value by performing some aggregation function on the column ```last_edited_time``` of the table)\n",
        "\n",
        "* Timestamp('2024-07-05 22:34:00+0000', tz='UTC') (OR \"2024-07-05T22:34:00.000Z\")\n",
        "* Timestamp('2024-07-05 23:33:00+0000', tz='UTC') (OR \"2024-07-05T23:33:00.000Z\")\n",
        "* Timestamp('2024-07-05 23:52:00+0000', tz='UTC') (OR \"2024-07-05T23:52:00.000Z\")\n",
        "* Timestamp('2024-07-05 22:56:00+0000', tz='UTC') (OR \"2024-07-05T22:56:00.000Z\")"
      ],
      "metadata": {
        "id": "BOHQMNsRLJYG"
      }
    },
    {
      "cell_type": "code",
      "source": [
        "df_homework.last_edited_time.max()"
      ],
      "metadata": {
        "colab": {
          "base_uri": "https://localhost:8080/"
        },
        "id": "dlR1ClbMLHgj",
        "outputId": "092e16a7-722b-44fd-b131-31eda2d8cc60"
      },
      "execution_count": 11,
      "outputs": [
        {
          "output_type": "execute_result",
          "data": {
            "text/plain": [
              "Timestamp('2024-07-05 23:33:00+0000', tz='UTC')"
            ]
          },
          "metadata": {},
          "execution_count": 11
        }
      ]
    },
    {
      "cell_type": "markdown",
      "source": [
        "## Part 2: Create a RAG bot using Ollama"
      ],
      "metadata": {
        "id": "WuG395sV1rqb"
      }
    },
    {
      "cell_type": "markdown",
      "source": [
        "1. Install Ollama into the notebook's local runtime"
      ],
      "metadata": {
        "id": "Fqvsji-Vuilq"
      }
    },
    {
      "cell_type": "code",
      "source": [
        "!curl -fsSL https://ollama.com/install.sh | sh"
      ],
      "metadata": {
        "colab": {
          "base_uri": "https://localhost:8080/"
        },
        "id": "kITCoZv85Ag5",
        "outputId": "1d8646e0-9b9e-490f-8c00-b2a52aa3ca04"
      },
      "execution_count": 12,
      "outputs": [
        {
          "output_type": "stream",
          "name": "stdout",
          "text": [
            ">>> Downloading ollama...\n",
            "############################################################################################# 100.0%\n",
            ">>> Installing ollama to /usr/local/bin...\n",
            ">>> Creating ollama user...\n",
            ">>> Adding ollama user to video group...\n",
            ">>> Adding current user to ollama group...\n",
            ">>> Creating ollama systemd service...\n",
            "WARNING: Unable to detect NVIDIA/AMD GPU. Install lspci or lshw to automatically detect and install GPU dependencies.\n",
            ">>> The Ollama API is now available at 127.0.0.1:11434.\n",
            ">>> Install complete. Run \"ollama\" from the command line.\n"
          ]
        }
      ]
    },
    {
      "cell_type": "markdown",
      "source": [
        "2. Start Ollama using `ollama serve`. This needs to run in the backgound - so we run it using `nohup` (to see the output log, open nohup.out)."
      ],
      "metadata": {
        "id": "5KrkKX5JuoiA"
      }
    },
    {
      "cell_type": "code",
      "source": [
        "!nohup ollama serve > nohup.out 2>&1 &"
      ],
      "metadata": {
        "id": "Yp1cSSPn5FUQ"
      },
      "execution_count": 13,
      "outputs": []
    },
    {
      "cell_type": "markdown",
      "source": [
        "3. Pull the desired model. We're going to be using `llama1-uncensored` (takes about 1m to download)"
      ],
      "metadata": {
        "id": "HNqBkxbVu4af"
      }
    },
    {
      "cell_type": "code",
      "source": [
        "%%capture\n",
        "!ollama pull llama2-uncensored"
      ],
      "metadata": {
        "id": "S8HKNK7k5Xze"
      },
      "execution_count": 14,
      "outputs": []
    },
    {
      "cell_type": "markdown",
      "source": [
        "In this next part we're going to be writing functions that accept user question, retrieve the relevant paragraphs from lancedb, and the pass the question and the retrieved pages as input into the ollama chat assistant"
      ],
      "metadata": {
        "id": "YxgV6a4O8J7n"
      }
    },
    {
      "cell_type": "markdown",
      "source": [
        "4. pip install ollama and import it"
      ],
      "metadata": {
        "id": "K5FCqdt-vCAt"
      }
    },
    {
      "cell_type": "code",
      "source": [
        "!pip install ollama"
      ],
      "metadata": {
        "colab": {
          "base_uri": "https://localhost:8080/"
        },
        "id": "sQhykrlGZoId",
        "outputId": "c983a6e3-7d7d-46ac-afee-58788f515317"
      },
      "execution_count": 15,
      "outputs": [
        {
          "output_type": "stream",
          "name": "stdout",
          "text": [
            "Collecting ollama\n",
            "  Downloading ollama-0.2.1-py3-none-any.whl (9.7 kB)\n",
            "Collecting httpx<0.28.0,>=0.27.0 (from ollama)\n",
            "  Downloading httpx-0.27.0-py3-none-any.whl (75 kB)\n",
            "\u001b[2K     \u001b[90m━━━━━━━━━━━━━━━━━━━━━━━━━━━━━━━━━━━━━━━━\u001b[0m \u001b[32m75.6/75.6 kB\u001b[0m \u001b[31m2.9 MB/s\u001b[0m eta \u001b[36m0:00:00\u001b[0m\n",
            "\u001b[?25hRequirement already satisfied: anyio in /usr/local/lib/python3.10/dist-packages (from httpx<0.28.0,>=0.27.0->ollama) (3.7.1)\n",
            "Requirement already satisfied: certifi in /usr/local/lib/python3.10/dist-packages (from httpx<0.28.0,>=0.27.0->ollama) (2024.7.4)\n",
            "Collecting httpcore==1.* (from httpx<0.28.0,>=0.27.0->ollama)\n",
            "  Downloading httpcore-1.0.5-py3-none-any.whl (77 kB)\n",
            "\u001b[2K     \u001b[90m━━━━━━━━━━━━━━━━━━━━━━━━━━━━━━━━━━━━━━━━\u001b[0m \u001b[32m77.9/77.9 kB\u001b[0m \u001b[31m9.5 MB/s\u001b[0m eta \u001b[36m0:00:00\u001b[0m\n",
            "\u001b[?25hRequirement already satisfied: idna in /usr/local/lib/python3.10/dist-packages (from httpx<0.28.0,>=0.27.0->ollama) (3.7)\n",
            "Requirement already satisfied: sniffio in /usr/local/lib/python3.10/dist-packages (from httpx<0.28.0,>=0.27.0->ollama) (1.3.1)\n",
            "Collecting h11<0.15,>=0.13 (from httpcore==1.*->httpx<0.28.0,>=0.27.0->ollama)\n",
            "  Downloading h11-0.14.0-py3-none-any.whl (58 kB)\n",
            "\u001b[2K     \u001b[90m━━━━━━━━━━━━━━━━━━━━━━━━━━━━━━━━━━━━━━━━\u001b[0m \u001b[32m58.3/58.3 kB\u001b[0m \u001b[31m8.8 MB/s\u001b[0m eta \u001b[36m0:00:00\u001b[0m\n",
            "\u001b[?25hRequirement already satisfied: exceptiongroup in /usr/local/lib/python3.10/dist-packages (from anyio->httpx<0.28.0,>=0.27.0->ollama) (1.2.1)\n",
            "Installing collected packages: h11, httpcore, httpx, ollama\n",
            "Successfully installed h11-0.14.0 httpcore-1.0.5 httpx-0.27.0 ollama-0.2.1\n"
          ]
        }
      ]
    },
    {
      "cell_type": "code",
      "source": [
        "import ollama"
      ],
      "metadata": {
        "id": "2M4T3gF0bQQV"
      },
      "execution_count": 16,
      "outputs": []
    },
    {
      "cell_type": "markdown",
      "source": [
        "5. Write a function that can retrieve content from lancedb relevant to the user query\n",
        "  \n",
        "  With LanceDB, you don't have to explicity embed the question. LanceDB stores information on the embedding model used and automatically embeds the question.\n",
        "\n",
        "  We use the `db_table.search()` function to query the DB and then limit it to the top 2 most similar results and return that as the context to pass to the RAG.\n",
        "\n",
        "  Limiting results is important because otherwise there might be too much confusing information. Similarly only picking the top choice might not give enough information."
      ],
      "metadata": {
        "id": "Nd2AzTLnvIuZ"
      }
    },
    {
      "cell_type": "code",
      "source": [
        "def retrieve_context_from_lancedb(dbtable, question, top_k=2):\n",
        "\n",
        "    query_results = dbtable.search(query=question).to_list()\n",
        "    context = \"\\n\".join([result[\"content\"] for result in query_results[:top_k]])\n",
        "\n",
        "    return context"
      ],
      "metadata": {
        "id": "c1rSQm33qx2r"
      },
      "execution_count": 17,
      "outputs": []
    },
    {
      "cell_type": "markdown",
      "source": [
        "6. Finally we define a very basic RAG. We define a simple system prompt, retrieve the relevant context for the user query with the function defined above and then send the user question and the context to the `llama2-uncensored` model."
      ],
      "metadata": {
        "id": "MLiwo22GsVSa"
      }
    },
    {
      "cell_type": "code",
      "source": [
        "def main():\n",
        "  # Connect to the lancedb table\n",
        "  db = lancedb.connect(\".lancedb\")\n",
        "  # dbtable = db.open_table(\"notion_pages___employee_handbook\")\n",
        "  dbtable = db.open_table(\"notion_pages___homework\") # 3. Remember to update the table name in all cells where you connect to a lancedb table.\n",
        "\n",
        "  # A system prompt telling ollama to accept input in the form of \"Question: ... ; Context: ...\"\n",
        "  messages = [\n",
        "      {\"role\": \"system\", \"content\": \"You are a helpful assistant that helps users understand policies inside a company's employee handbook. The user will first ask you a question and then provide you relevant paragraphs from the handbook as context. Please answer the question based on the provided context. For any details missing in the paragraph, encourage the employee to contact the HR for that information. Please keep the responses conversational.\"}\n",
        "  ]\n",
        "\n",
        "  while True:\n",
        "    # Accept user question\n",
        "    question = input(\"You: \")\n",
        "\n",
        "    # Retrieve the relevant paragraphs on the question\n",
        "    context = retrieve_context_from_lancedb(dbtable,question,top_k=2)\n",
        "\n",
        "    # Create a user prompt using the question and retrieved context\n",
        "    messages.append(\n",
        "        {\"role\": \"user\", \"content\": f\"Question: '{question}'; Context:'{context}'\"}\n",
        "    )\n",
        "\n",
        "    # Get the response from the LLM\n",
        "    response = ollama.chat(\n",
        "        model=\"llama2-uncensored\",\n",
        "        messages=messages\n",
        "    )\n",
        "    response_content = response['message']['content']\n",
        "    print(f\"Assistant: {response_content}\")\n",
        "\n",
        "    # Add the response into the context window\n",
        "    messages.append(\n",
        "        {\"role\": \"assistant\", \"content\":response_content}\n",
        "    )"
      ],
      "metadata": {
        "id": "2OvqfvFU_h3F"
      },
      "execution_count": 18,
      "outputs": []
    },
    {
      "cell_type": "markdown",
      "source": [
        "### Q3. Ask the Assistant\n",
        "Find out with the help of the AI assistant: ```how many PTO days are the employees entitled to in a year?```\n",
        "\n",
        "* 20\n",
        "* 25\n",
        "* 30\n",
        "* 35"
      ],
      "metadata": {
        "id": "TrRXzAd7fB1w"
      }
    },
    {
      "cell_type": "code",
      "source": [
        "main()"
      ],
      "metadata": {
        "colab": {
          "base_uri": "https://localhost:8080/",
          "height": 527
        },
        "id": "lCcHrjymfdgE",
        "outputId": "20bffd44-6403-4a01-f421-8c617d5dcb66"
      },
      "execution_count": 19,
      "outputs": [
        {
          "name": "stdout",
          "output_type": "stream",
          "text": [
            "You: how many PTO days are the employees entitled to in a year?\n"
          ]
        },
        {
          "output_type": "stream",
          "name": "stderr",
          "text": [
            "/usr/local/lib/python3.10/dist-packages/huggingface_hub/utils/_token.py:89: UserWarning: \n",
            "The secret `HF_TOKEN` does not exist in your Colab secrets.\n",
            "To authenticate with the Hugging Face Hub, create a token in your settings tab (https://huggingface.co/settings/tokens), set it as secret in your Google Colab and restart your session.\n",
            "You will be able to reuse this secret in all of your notebooks.\n",
            "Please note that authentication is recommended but still optional to access public models or datasets.\n",
            "  warnings.warn(\n",
            "/usr/local/lib/python3.10/dist-packages/huggingface_hub/file_download.py:1132: FutureWarning: `resume_download` is deprecated and will be removed in version 1.0.0. Downloads always resume when possible. If you want to force a new download, use `force_download=True`.\n",
            "  warnings.warn(\n"
          ]
        },
        {
          "output_type": "stream",
          "name": "stdout",
          "text": [
            "Assistant: Based on the provided context, it appears that employees are entitled to 30 days of paid time off (PTO) per year. However, if they need clarification or more details about the PTO policy, they can contact HR for assistance.\n",
            "You: Thanks!\n",
            "Assistant: Based on the provided context, it appears that employees are entitled to $1000 annually for educational activities or material. They can contact HR by email for any expenses related to development opportunities such as online courses, formal training sessions, employee coaching and mentoring, job shadowing, etc. Additionally, our company provides a comprehensive worker's compensation policy that covers medical expenses, rehabilitation costs, and lost wages during the recovery period for employees who sustain workplace injuries. For more information on this policy, employees can refer to the document or contact HR.\n"
          ]
        },
        {
          "output_type": "error",
          "ename": "KeyboardInterrupt",
          "evalue": "Interrupted by user",
          "traceback": [
            "\u001b[0;31m---------------------------------------------------------------------------\u001b[0m",
            "\u001b[0;31mKeyboardInterrupt\u001b[0m                         Traceback (most recent call last)",
            "\u001b[0;32m<ipython-input-19-263240bbee7e>\u001b[0m in \u001b[0;36m<cell line: 1>\u001b[0;34m()\u001b[0m\n\u001b[0;32m----> 1\u001b[0;31m \u001b[0mmain\u001b[0m\u001b[0;34m(\u001b[0m\u001b[0;34m)\u001b[0m\u001b[0;34m\u001b[0m\u001b[0;34m\u001b[0m\u001b[0m\n\u001b[0m",
            "\u001b[0;32m<ipython-input-18-3335db66f40f>\u001b[0m in \u001b[0;36mmain\u001b[0;34m()\u001b[0m\n\u001b[1;32m     12\u001b[0m   \u001b[0;32mwhile\u001b[0m \u001b[0;32mTrue\u001b[0m\u001b[0;34m:\u001b[0m\u001b[0;34m\u001b[0m\u001b[0;34m\u001b[0m\u001b[0m\n\u001b[1;32m     13\u001b[0m     \u001b[0;31m# Accept user question\u001b[0m\u001b[0;34m\u001b[0m\u001b[0;34m\u001b[0m\u001b[0m\n\u001b[0;32m---> 14\u001b[0;31m     \u001b[0mquestion\u001b[0m \u001b[0;34m=\u001b[0m \u001b[0minput\u001b[0m\u001b[0;34m(\u001b[0m\u001b[0;34m\"You: \"\u001b[0m\u001b[0;34m)\u001b[0m\u001b[0;34m\u001b[0m\u001b[0;34m\u001b[0m\u001b[0m\n\u001b[0m\u001b[1;32m     15\u001b[0m \u001b[0;34m\u001b[0m\u001b[0m\n\u001b[1;32m     16\u001b[0m     \u001b[0;31m# Retrieve the relevant paragraphs on the question\u001b[0m\u001b[0;34m\u001b[0m\u001b[0;34m\u001b[0m\u001b[0m\n",
            "\u001b[0;32m/usr/local/lib/python3.10/dist-packages/ipykernel/kernelbase.py\u001b[0m in \u001b[0;36mraw_input\u001b[0;34m(self, prompt)\u001b[0m\n\u001b[1;32m    849\u001b[0m                 \u001b[0;34m\"raw_input was called, but this frontend does not support input requests.\"\u001b[0m\u001b[0;34m\u001b[0m\u001b[0;34m\u001b[0m\u001b[0m\n\u001b[1;32m    850\u001b[0m             )\n\u001b[0;32m--> 851\u001b[0;31m         return self._input_request(str(prompt),\n\u001b[0m\u001b[1;32m    852\u001b[0m             \u001b[0mself\u001b[0m\u001b[0;34m.\u001b[0m\u001b[0m_parent_ident\u001b[0m\u001b[0;34m,\u001b[0m\u001b[0;34m\u001b[0m\u001b[0;34m\u001b[0m\u001b[0m\n\u001b[1;32m    853\u001b[0m             \u001b[0mself\u001b[0m\u001b[0;34m.\u001b[0m\u001b[0m_parent_header\u001b[0m\u001b[0;34m,\u001b[0m\u001b[0;34m\u001b[0m\u001b[0;34m\u001b[0m\u001b[0m\n",
            "\u001b[0;32m/usr/local/lib/python3.10/dist-packages/ipykernel/kernelbase.py\u001b[0m in \u001b[0;36m_input_request\u001b[0;34m(self, prompt, ident, parent, password)\u001b[0m\n\u001b[1;32m    893\u001b[0m             \u001b[0;32mexcept\u001b[0m \u001b[0mKeyboardInterrupt\u001b[0m\u001b[0;34m:\u001b[0m\u001b[0;34m\u001b[0m\u001b[0;34m\u001b[0m\u001b[0m\n\u001b[1;32m    894\u001b[0m                 \u001b[0;31m# re-raise KeyboardInterrupt, to truncate traceback\u001b[0m\u001b[0;34m\u001b[0m\u001b[0;34m\u001b[0m\u001b[0m\n\u001b[0;32m--> 895\u001b[0;31m                 \u001b[0;32mraise\u001b[0m \u001b[0mKeyboardInterrupt\u001b[0m\u001b[0;34m(\u001b[0m\u001b[0;34m\"Interrupted by user\"\u001b[0m\u001b[0;34m)\u001b[0m \u001b[0;32mfrom\u001b[0m \u001b[0;32mNone\u001b[0m\u001b[0;34m\u001b[0m\u001b[0;34m\u001b[0m\u001b[0m\n\u001b[0m\u001b[1;32m    896\u001b[0m             \u001b[0;32mexcept\u001b[0m \u001b[0mException\u001b[0m \u001b[0;32mas\u001b[0m \u001b[0me\u001b[0m\u001b[0;34m:\u001b[0m\u001b[0;34m\u001b[0m\u001b[0;34m\u001b[0m\u001b[0m\n\u001b[1;32m    897\u001b[0m                 \u001b[0mself\u001b[0m\u001b[0;34m.\u001b[0m\u001b[0mlog\u001b[0m\u001b[0;34m.\u001b[0m\u001b[0mwarning\u001b[0m\u001b[0;34m(\u001b[0m\u001b[0;34m\"Invalid Message:\"\u001b[0m\u001b[0;34m,\u001b[0m \u001b[0mexc_info\u001b[0m\u001b[0;34m=\u001b[0m\u001b[0;32mTrue\u001b[0m\u001b[0;34m)\u001b[0m\u001b[0;34m\u001b[0m\u001b[0;34m\u001b[0m\u001b[0m\n",
            "\u001b[0;31mKeyboardInterrupt\u001b[0m: Interrupted by user"
          ]
        }
      ]
    }
  ]
}