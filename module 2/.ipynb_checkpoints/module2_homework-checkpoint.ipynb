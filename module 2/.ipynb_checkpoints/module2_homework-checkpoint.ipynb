{
 "cells": [
  {
   "cell_type": "markdown",
   "id": "6109f78c-2be6-4a80-83ea-a89313f3cced",
   "metadata": {},
   "source": [
    "### Q1. Running Ollama with Docker\n",
    "Let's run ollama with Docker. We will need to execute the same command as in the lectures:\n",
    "```bash\n",
    "docker run -it \\\n",
    "    --rm \\\n",
    "    -v ollama:/root/.ollama \\\n",
    "    -p 11434:11434 \\\n",
    "    --name ollama \\\n",
    "    ollama/ollama\n",
    "```\n",
    "What's the version of ollama client?\n",
    "\n",
    "To find out, enter the container and execute ollama with the -v flag."
   ]
  },
  {
   "cell_type": "markdown",
   "id": "31682875-3728-4dd4-bdce-15785f1756fa",
   "metadata": {},
   "source": [
    "<b>Answer</b>: \n",
    "\n",
    "Execute in terminal\n",
    "1. Lookup ollama container name with ```docker ps```. Here it shows ```ollama```.\n",
    "2. Enter the container ```docker exec -it ollama bash```\n",
    "3. ```ollama -v``` to find Ollama client version: ```0.1.47```\n",
    "4. Exit bash with ```exit```."
   ]
  },
  {
   "cell_type": "markdown",
   "id": "d9162a6b-ced2-4592-9cb7-eaa088d709d4",
   "metadata": {},
   "source": [
    "### Q2. Downloading an LLM\n",
    "We will download a smaller LLM - gemma:2b.\n",
    "\n",
    "Again let's enter the container and pull the model:\n",
    "\n",
    "```ollama pull gemma:2b```\n",
    "In docker, it saved the results into ```/root/.ollama```\n",
    "\n",
    "We're interested in the metadata about this model. You can find it in ```models/manifests/registry.ollama.ai/library```\n",
    "\n",
    "What's the content of the file related to gemma?"
   ]
  },
  {
   "cell_type": "markdown",
   "id": "97db1b9f-58a2-484b-b654-827837477745",
   "metadata": {},
   "source": [
    "<b>Answer</b>: \n",
    "\n",
    "Execute in terminal\n",
    "1. ```docker exec ollama ls /root/.ollama/models/manifests/registry.ollama.ai/library/```\n",
    "2. Displays subfolders:\n",
    "   ```bash\n",
    "   gemma\n",
    "   phi3\n",
    "   ```\n",
    "3. ```docker exec ollama ls /root/.ollama/models/manifests/registry.ollama.ai/library/gemma```\n",
    "4. Displays file ```2b``` inside ```gemma``` folder.\n",
    "5. Show file content: ```docker exec ollama cat /root/.ollama/models/manifests/registry.ollama.ai/library/gemma/2b```\n",
    "```\n",
    "{\"schemaVersion\":2,\"mediaType\":\"application/vnd.docker.distribution.manifest.v2+json\",\"config\":{\"mediaType\":\"application/vnd.docker.container.image.v1+json\",\"digest\":\"sha256:887433b89a901c156f7e6944442f3c9e57f3c55d6ed52042cbb7303aea994290\",\"size\":483},\"layers\":[{\"mediaType\":\"application/vnd.ollama.image.model\",\"digest\":\"sha256:c1864a5eb19305c40519da12cc543519e48a0697ecd30e15d5ac228644957d12\",\"size\":1678447520},{\"mediaType\":\"application/vnd.ollama.image.license\",\"digest\":\"sha256:097a36493f718248845233af1d3fefe7a303f864fae13bc31a3a9704229378ca\",\"size\":8433},{\"mediaType\":\"application/vnd.ollama.image.template\",\"digest\":\"sha256:109037bec39c0becc8221222ae23557559bc594290945a2c4221ab4f303b8871\",\"size\":136},{\"mediaType\":\"application/vnd.ollama.image.params\",\"digest\":\"sha256:22a838ceb7fb22755a3b0ae9b4eadde629d19be1f651f73efb8c6b4e2cd0eea0\",\"size\":84}]}\n",
    "```"
   ]
  },
  {
   "cell_type": "markdown",
   "id": "58fba427-bd1e-4f99-8367-98de2182eaa0",
   "metadata": {},
   "source": [
    "### Q3. Running the LLM\n",
    "Test the following prompt: \"10 * 10\". What's the answer?"
   ]
  },
  {
   "cell_type": "markdown",
   "id": "d3e7b7ed-23b1-4e3a-9827-93af32486052",
   "metadata": {},
   "source": [
    "<b>Answer</b>: \n",
    "\n",
    "Execute in terminal\n",
    "1. Enter the container ```docker exec -it <ollama container name> bash```\n",
    "2. ```ollama run gemma:2b```\n",
    "3. Query ```10 * 10``` to see the answer:\n",
    "   ```\n",
    "   Sure, here's the answer to the question:\n",
    "\n",
    "   10 * 10 = 100.\n",
    "\n",
    "   Is there anything else I can help you with?\n",
    "    ```\n",
    "4. ```/bye``` then ```exit``` to exit container."
   ]
  },
  {
   "cell_type": "markdown",
   "id": "cddc8e17-9cc5-492c-a017-dd64ef8c80c2",
   "metadata": {},
   "source": [
    "### Q4. Downloading the weights\n",
    "We don't want to pull the weights every time we run a docker container. Let's do it once and have them available every time we start a container.\n",
    "\n",
    "First, we will need to change how we run the container.\n",
    "\n",
    "Instead of mapping the ```/root/.ollama``` folder to a named volume, let's map it to a local directory:\n",
    "```bash\n",
    "mkdir ollama_files\n",
    "\n",
    "docker run -it \\\n",
    "    --rm \\\n",
    "    -v ./ollama_files:/root/.ollama \\\n",
    "    -p 11434:11434 \\\n",
    "    --name ollama \\\n",
    "    ollama/ollama\n",
    "```\n",
    "Now pull the model: ```docker exec -it ollama ollama pull gemma:2b```\n",
    "\n",
    "What's the size of the ```ollama_files/models``` folder?\n",
    "\n",
    "- 0.6G\n",
    "- 1.2G\n",
    "- 1.7G\n",
    "- 2.2G\n",
    "  \n",
    "Hint: on linux, you can use ```du -h``` for that."
   ]
  },
  {
   "cell_type": "markdown",
   "id": "a6848388-8e6a-4d3f-b65a-c6e3e5a14bf7",
   "metadata": {},
   "source": [
    "<b>Answer</b>: \n",
    "\n",
    "1. Terminate the current running container with ```docker stop ollama```.\n",
    "2. Execute the commands in Q4 to create new directory ```ollama_files```, ```docker run ....``` to map volume to ```ollama_files```, and pull the ```gemma:2b``` model.\n",
    "3. ```du -h ollama_files/models``` to view folder size: ```1.6G```\n"
   ]
  },
  {
   "cell_type": "markdown",
   "id": "26b88c2e-da9b-47df-a105-6b43cea77170",
   "metadata": {},
   "source": [
    "### Q5. Adding the weights\n",
    "Let's now stop the container and add the weights to a new image\n",
    "\n",
    "For that, let's create a Dockerfile:\n",
    "```\n",
    "FROM ollama/ollama\n",
    "\n",
    "COPY ...\n",
    "```\n",
    "What do you put after ```COPY```?"
   ]
  },
  {
   "cell_type": "markdown",
   "id": "74b3c9ce-ed87-482f-b37a-a20884e63ea0",
   "metadata": {},
   "source": [
    "<b>Answer</b>: \n",
    "\n",
    "It should mirror the docker command ```-v ./ollama_files:/root/.ollama``` to copy the downloaded weights in ```ollama_files``` into the new container. Hence \n",
    "```bash\n",
    "COPY ./ollama_files /root/.ollama\n",
    "```"
   ]
  },
  {
   "cell_type": "markdown",
   "id": "73a7cbc6-351f-47b4-8b37-b15e275eb4dd",
   "metadata": {},
   "source": [
    "### Q6. Serving it\n",
    "Let's build it:\n",
    "\n",
    "```docker build -t ollama-gemma2b .```\n",
    "\n",
    "And run it:\n",
    "\n",
    "```docker run -it --rm -p 11434:11434 ollama-gemma2b```\n",
    "\n",
    "We can connect to it using the OpenAI client\n",
    "\n",
    "Let's test it with the following prompt:\n",
    "\n",
    "```prompt = \"What's the formula for energy?\"```\n",
    "\n",
    "Also, to make results reproducible, set the ```temperature``` parameter to 0:\n",
    "\n",
    "```python\n",
    "response = client.chat.completions.create(\n",
    "    #...\n",
    "    temperature=0.0\n",
    ")\n",
    "```\n",
    "How many completion tokens did you get in response?\n",
    "\n",
    "- 304\n",
    "- 604\n",
    "- 904\n",
    "- 1204\n"
   ]
  },
  {
   "cell_type": "markdown",
   "id": "20020f43-9a07-45d3-8d8f-ead5cad27906",
   "metadata": {},
   "source": [
    "### OpenAI chat completion API\n",
    "\n",
    "A completion_tokens key can be found in [OpenAI chat completion response format](https://platform.openai.com/docs/guides/text-generation/chat-completions-response-format). E.g.\n",
    "```bash\n",
    "{\n",
    "  \"choices\": [\n",
    "    {\n",
    "      \"finish_reason\": \"stop\",\n",
    "      \"index\": 0,\n",
    "      \"message\": {\n",
    "        \"content\": \"The 2020 World Series was played in Texas at Globe Life Field in Arlington.\",\n",
    "        \"role\": \"assistant\"\n",
    "      },\n",
    "      \"logprobs\": null\n",
    "    }\n",
    "  ],\n",
    "  \"created\": 1677664795,\n",
    "  \"id\": \"chatcmpl-7QyqpwdfhqwajicIEznoc6Q47XAyW\",\n",
    "  \"model\": \"gpt-3.5-turbo-0613\",\n",
    "  \"object\": \"chat.completion\",\n",
    "  \"usage\": {\n",
    "    \"completion_tokens\": 17,\n",
    "    \"prompt_tokens\": 57,\n",
    "    \"total_tokens\": 74\n",
    "  }\n",
    "}\n",
    "```"
   ]
  },
  {
   "cell_type": "code",
   "execution_count": 1,
   "id": "50eff502-383a-42a5-be30-05a79c3d4d1d",
   "metadata": {},
   "outputs": [],
   "source": [
    "from openai import OpenAI\n",
    "\n",
    "client = OpenAI(\n",
    "    base_url='http://localhost:11434/v1/',\n",
    "    api_key='ollama',\n",
    ")\n",
    "\n",
    "def llm(prompt):\n",
    "    response = client.chat.completions.create(\n",
    "        model='gemma:2b',\n",
    "        messages=[{\"role\": \"user\", \"content\": prompt}],\n",
    "        temperature=0.0\n",
    "    )\n",
    "    return response"
   ]
  },
  {
   "cell_type": "code",
   "execution_count": 2,
   "id": "d43a175c-16b2-47d5-99a5-9cb0d2369db0",
   "metadata": {},
   "outputs": [
    {
     "data": {
      "text/plain": [
       "ChatCompletion(id='chatcmpl-702', choices=[Choice(finish_reason='stop', index=0, logprobs=None, message=ChatCompletionMessage(content=\"Sure, here's the formula for energy:\\n\\n**E = K + U**\\n\\nWhere:\\n\\n* **E** is the energy in joules (J)\\n* **K** is the kinetic energy in joules (J)\\n* **U** is the potential energy in joules (J)\\n\\n**Kinetic energy (K)** is the energy an object possesses when it moves or is in motion. It is calculated as half the product of an object's mass (m) and its velocity (v) squared:\\n\\n**K = 1/2mv^2**\\n\\n**Potential energy (U)** is the energy an object possesses due to its position or configuration. It is calculated as the product of an object's mass, gravitational constant (g), and height or position above a reference point.\\n\\n**U = mgh**\\n\\n**Where:**\\n\\n* **m** is the mass in kilograms (kg)\\n* **g** is the acceleration due to gravity in meters per second squared (m/s²)\\n* **h** is the height or position in meters (m)\\n\\nThe formula shows that energy can be expressed as the sum of kinetic and potential energy. The kinetic energy is a measure of the object's ability to do work, while the potential energy is a measure of the object's ability to do work against gravity.\", role='assistant', function_call=None, tool_calls=None))], created=1719770119, model='gemma:2b', object='chat.completion', service_tier=None, system_fingerprint='fp_ollama', usage=CompletionUsage(completion_tokens=283, prompt_tokens=34, total_tokens=317))"
      ]
     },
     "execution_count": 2,
     "metadata": {},
     "output_type": "execute_result"
    }
   ],
   "source": [
    "prompt = \"What's the formula for energy?\"\n",
    "response = llm(prompt)\n",
    "response"
   ]
  },
  {
   "cell_type": "markdown",
   "id": "883b6367-f84d-492c-9b7d-8735a4e7c3ed",
   "metadata": {},
   "source": [
    "### Completion tokens from response"
   ]
  },
  {
   "cell_type": "code",
   "execution_count": 3,
   "id": "1f153510-ea00-46d9-9862-a5a129f03f01",
   "metadata": {},
   "outputs": [
    {
     "name": "stdout",
     "output_type": "stream",
     "text": [
      "283\n"
     ]
    }
   ],
   "source": [
    "completion_tokens = response.usage.completion_tokens\n",
    "print(completion_tokens)"
   ]
  },
  {
   "cell_type": "markdown",
   "id": "7407367f-fdb1-49bf-869a-939ccc288558",
   "metadata": {},
   "source": [
    "### Attempt to compute number of completion tokens using tiktoken"
   ]
  },
  {
   "cell_type": "code",
   "execution_count": 4,
   "id": "b87f6ced-5657-4a57-bb8f-28d652425d0e",
   "metadata": {},
   "outputs": [
    {
     "data": {
      "text/plain": [
       "260"
      ]
     },
     "execution_count": 4,
     "metadata": {},
     "output_type": "execute_result"
    }
   ],
   "source": [
    "import tiktoken\n",
    "\n",
    "answer = response.choices[0].message.content\n",
    "encoding = tiktoken.encoding_for_model(\"gpt-4o\")\n",
    "len(encoding.encode(answer))"
   ]
  },
  {
   "cell_type": "markdown",
   "id": "8cf7cb72-e349-4559-ba6b-10dc1d972538",
   "metadata": {},
   "source": [
    "### Answer for the query \"What's the formula for energy?\""
   ]
  },
  {
   "cell_type": "code",
   "execution_count": 5,
   "id": "a4d65875-5aad-450d-b2c3-b8a0cc6c5fbf",
   "metadata": {},
   "outputs": [
    {
     "name": "stdout",
     "output_type": "stream",
     "text": [
      "Sure, here's the formula for energy:\n",
      "\n",
      "**E = K + U**\n",
      "\n",
      "Where:\n",
      "\n",
      "* **E** is the energy in joules (J)\n",
      "* **K** is the kinetic energy in joules (J)\n",
      "* **U** is the potential energy in joules (J)\n",
      "\n",
      "**Kinetic energy (K)** is the energy an object possesses when it moves or is in motion. It is calculated as half the product of an object's mass (m) and its velocity (v) squared:\n",
      "\n",
      "**K = 1/2mv^2**\n",
      "\n",
      "**Potential energy (U)** is the energy an object possesses due to its position or configuration. It is calculated as the product of an object's mass, gravitational constant (g), and height or position above a reference point.\n",
      "\n",
      "**U = mgh**\n",
      "\n",
      "**Where:**\n",
      "\n",
      "* **m** is the mass in kilograms (kg)\n",
      "* **g** is the acceleration due to gravity in meters per second squared (m/s²)\n",
      "* **h** is the height or position in meters (m)\n",
      "\n",
      "The formula shows that energy can be expressed as the sum of kinetic and potential energy. The kinetic energy is a measure of the object's ability to do work, while the potential energy is a measure of the object's ability to do work against gravity.\n"
     ]
    }
   ],
   "source": [
    "print(answer)"
   ]
  },
  {
   "cell_type": "code",
   "execution_count": null,
   "id": "3b193612-27de-42d1-a5c2-a82fd820a4a3",
   "metadata": {},
   "outputs": [],
   "source": []
  }
 ],
 "metadata": {
  "kernelspec": {
   "display_name": "Python 3 (ipykernel)",
   "language": "python",
   "name": "python3"
  },
  "language_info": {
   "codemirror_mode": {
    "name": "ipython",
    "version": 3
   },
   "file_extension": ".py",
   "mimetype": "text/x-python",
   "name": "python",
   "nbconvert_exporter": "python",
   "pygments_lexer": "ipython3",
   "version": "3.12.3"
  }
 },
 "nbformat": 4,
 "nbformat_minor": 5
}
