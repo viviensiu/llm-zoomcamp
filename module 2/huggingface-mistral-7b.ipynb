{
 "cells": [
  {
   "cell_type": "markdown",
   "id": "ffceda19-cc81-4b45-95b9-81ff345a3cc8",
   "metadata": {},
   "source": [
    "## Base code for module-2\n",
    "Basically a condensed version of what we learned in Module 1:\n",
    "\n",
    "index document for RAG into a minsearch object"
   ]
  },
  {
   "cell_type": "code",
   "execution_count": 1,
   "id": "bad2beae-8b1b-4298-87cb-794ffb25aeeb",
   "metadata": {},
   "outputs": [],
   "source": [
    "# !rm -f minsearch.py\n",
    "# !wget https://raw.githubusercontent.com/alexeygrigorev/minsearch/main/minsearch.py"
   ]
  },
  {
   "cell_type": "code",
   "execution_count": 2,
   "id": "847ad213-c5a6-4d9e-9e5a-e806519b7c12",
   "metadata": {},
   "outputs": [
    {
     "name": "stdout",
     "output_type": "stream",
     "text": [
      "minsearch.py already exists\n"
     ]
    }
   ],
   "source": [
    "import os\n",
    "if not os.path.isfile('minsearch.py'):\n",
    "    !python -m wget \"https://raw.githubusercontent.com/alexeygrigorev/minsearch/main/minsearch.py\"\n",
    "else:\n",
    "    print(\"minsearch.py already exists\")"
   ]
  },
  {
   "cell_type": "code",
   "execution_count": 3,
   "id": "639f673c-f6e5-4822-ad0e-20a713041517",
   "metadata": {},
   "outputs": [],
   "source": [
    "import requests \n",
    "import minsearch"
   ]
  },
  {
   "cell_type": "code",
   "execution_count": 4,
   "id": "7545ec3f-204b-47ac-9336-d9ce43143378",
   "metadata": {},
   "outputs": [
    {
     "data": {
      "text/plain": [
       "<minsearch.Index at 0x7fe2642fd8e0>"
      ]
     },
     "execution_count": 4,
     "metadata": {},
     "output_type": "execute_result"
    }
   ],
   "source": [
    "docs_url = 'https://github.com/DataTalksClub/llm-zoomcamp/blob/main/01-intro/documents.json?raw=1'\n",
    "docs_response = requests.get(docs_url)\n",
    "documents_raw = docs_response.json()\n",
    "\n",
    "documents = []\n",
    "\n",
    "for course in documents_raw:\n",
    "    course_name = course['course']\n",
    "\n",
    "    for doc in course['documents']:\n",
    "        doc['course'] = course_name\n",
    "        documents.append(doc)\n",
    "\n",
    "index = minsearch.Index(\n",
    "    text_fields=[\"question\", \"text\", \"section\"],\n",
    "    keyword_fields=[\"course\"]\n",
    ")\n",
    "\n",
    "index.fit(documents)"
   ]
  },
  {
   "cell_type": "code",
   "execution_count": 5,
   "id": "d46ddd92-c18a-41aa-bbdb-4ecb83b66b93",
   "metadata": {},
   "outputs": [],
   "source": [
    "def search(query):\n",
    "    boost = {'question': 3.0, 'section': 0.5}\n",
    "\n",
    "    results = index.search(\n",
    "        query=query,\n",
    "        filter_dict={'course': 'data-engineering-zoomcamp'},\n",
    "        boost_dict=boost,\n",
    "        num_results=3\n",
    "    )\n",
    "\n",
    "    return results"
   ]
  },
  {
   "cell_type": "code",
   "execution_count": 6,
   "id": "dc8e6e95-99a7-453b-b0b1-df756d1b825f",
   "metadata": {},
   "outputs": [],
   "source": [
    "def rag(query):\n",
    "    search_results = search(query)\n",
    "    prompt = build_prompt(query, search_results)\n",
    "    answer = llm(prompt)\n",
    "    return answer"
   ]
  },
  {
   "cell_type": "markdown",
   "id": "1dd5fb35-124d-4ff9-8c28-8d236d218bd3",
   "metadata": {},
   "source": [
    "## Replace the OpenAI LLM with HuggingFace open-source model Mistral 7B"
   ]
  },
  {
   "cell_type": "markdown",
   "id": "690a3e58-2ec5-4e93-a47d-60f5aecae85a",
   "metadata": {},
   "source": [
    "### Important Note: If you're not running in Saturn Cloud \n",
    "\n",
    "You need to install these libraries:\n",
    "\n",
    "Make sure you use the latest versions\n",
    "\n",
    "```pip install -U transformers accelerate bitsandbytes```"
   ]
  },
  {
   "cell_type": "markdown",
   "id": "50eda73f-199b-456a-99e4-d71316f49cfa",
   "metadata": {},
   "source": [
    "By default, the tokenizers are loaded into a default location specified under env variable HF_HOME, usually it's HF_HOME = /home/\\<your username\\>.\n",
    "\n",
    "However on Saturn Cloud, you may not have enough space in your home directory. To check on how much space, use ```!df -h```"
   ]
  },
  {
   "cell_type": "markdown",
   "id": "37657db9-bb85-48d1-bcae-8cc55c99cba6",
   "metadata": {},
   "source": [
    "As per Module 2.3, we will switch the HF_HOME env variable to \"/run/cache\" as there is more space there."
   ]
  },
  {
   "cell_type": "code",
   "execution_count": 7,
   "id": "56a9d27e-3b88-4b5f-b0eb-d8b6b9644beb",
   "metadata": {},
   "outputs": [],
   "source": [
    "os.environ['HF_HOME'] = '/run/cache/'\n",
    "# equivalent to this terminal cmd: \"export HF_HOME='/run/cache' \""
   ]
  },
  {
   "cell_type": "markdown",
   "id": "7e443a54-599c-46a7-a1da-610998e22377",
   "metadata": {},
   "source": [
    "### Import HuggingFace API key\n",
    "Note that I setup my HuggingFace API key in the env. variable \"HF_KEY\".\n",
    "Another option would be to hardcode here but it is not recommended."
   ]
  },
  {
   "cell_type": "code",
   "execution_count": 8,
   "id": "6b908382-4c75-445f-9881-72ead23a0692",
   "metadata": {},
   "outputs": [
    {
     "name": "stdout",
     "output_type": "stream",
     "text": [
      "The token has not been saved to the git credentials helper. Pass `add_to_git_credential=True` in this function directly or `--add-to-git-credential` if using via `huggingface-cli` if you want to set the git credential as well.\n",
      "Token is valid (permission: read).\n",
      "Your token has been saved to /run/cache/token\n",
      "Login successful\n"
     ]
    }
   ],
   "source": [
    "# os.environ['HF_TOKEN'] = 'hf_blabla'\n",
    "from huggingface_hub import login\n",
    "login(token=os.environ['HF_KEY'])"
   ]
  },
  {
   "cell_type": "markdown",
   "id": "39c8fe19-5faf-4d93-9066-87dbd6c9608a",
   "metadata": {},
   "source": [
    "### Tokenizer and LLM\n",
    "\n",
    "The Tokenizer takes in text and turn it into some representation, and then the representation is fed into the language model."
   ]
  },
  {
   "cell_type": "code",
   "execution_count": 9,
   "id": "54f0b5c1-8f5b-4854-8f1a-d9cdc0898dca",
   "metadata": {},
   "outputs": [],
   "source": [
    "from transformers import AutoModelForCausalLM, AutoTokenizer, pipeline"
   ]
  },
  {
   "cell_type": "code",
   "execution_count": 10,
   "id": "bd3bb14f-6ced-45b4-9c8d-11d900c7ce1e",
   "metadata": {},
   "outputs": [
    {
     "name": "stderr",
     "output_type": "stream",
     "text": [
      "The `load_in_4bit` and `load_in_8bit` arguments are deprecated and will be removed in the future versions. Please, pass a `BitsAndBytesConfig` object in `quantization_config` argument instead.\n"
     ]
    },
    {
     "data": {
      "application/vnd.jupyter.widget-view+json": {
       "model_id": "77b5d9d6605b486f8dffb1e21f58a14e",
       "version_major": 2,
       "version_minor": 0
      },
      "text/plain": [
       "Loading checkpoint shards:   0%|          | 0/2 [00:00<?, ?it/s]"
      ]
     },
     "metadata": {},
     "output_type": "display_data"
    }
   ],
   "source": [
    "model = AutoModelForCausalLM.from_pretrained(\n",
    "    \"mistralai/Mistral-7B-v0.1\", device_map=\"auto\", load_in_4bit=True\n",
    ")\n",
    "\n",
    "tokenizer = AutoTokenizer.from_pretrained(\"mistralai/Mistral-7B-v0.1\", padding_side=\"left\")"
   ]
  },
  {
   "cell_type": "code",
   "execution_count": 11,
   "id": "58039569-c6c6-425c-b0a1-1615af29871f",
   "metadata": {},
   "outputs": [],
   "source": [
    "generator = pipeline(\"text-generation\", model=model, tokenizer=tokenizer)"
   ]
  },
  {
   "cell_type": "markdown",
   "id": "ce958d0c-f26b-48f8-b073-4ba3152a6a6f",
   "metadata": {},
   "source": [
    "### Putting everything together\n",
    "\n",
    "Replace the original prompt and llm functions with the Phi3 model"
   ]
  },
  {
   "cell_type": "code",
   "execution_count": 12,
   "id": "b3ddbc85-eb1c-491c-9bc5-2934fb6e2096",
   "metadata": {},
   "outputs": [],
   "source": [
    "# def build_prompt(query, search_results):\n",
    "#     prompt_template = \"\"\"\n",
    "# You're a course teaching assistant. Answer the QUESTION based on the CONTEXT from the FAQ database.\n",
    "# Use only the facts from the CONTEXT when answering the QUESTION.\n",
    "\n",
    "# QUESTION: {question}\n",
    "\n",
    "# CONTEXT: \n",
    "# {context}\n",
    "# \"\"\".strip()\n",
    "\n",
    "#     context = \"\"\n",
    "    \n",
    "#     for doc in search_results:\n",
    "#         context = context + f\"section: {doc['section']}\\nquestion: {doc['question']}\\nanswer: {doc['text']}\\n\\n\"\n",
    "    \n",
    "#     prompt = prompt_template.format(question=query, context=context).strip()\n",
    "#     return prompt\n",
    "\n",
    "# def llm(prompt):\n",
    "#     response = client.chat.completions.create(\n",
    "#         model='gpt-4o',\n",
    "#         messages=[{\"role\": \"user\", \"content\": prompt}]\n",
    "#     )\n",
    "    \n",
    "#     return response.choices[0].message.content"
   ]
  },
  {
   "cell_type": "code",
   "execution_count": 13,
   "id": "b2b503ca-6596-45c6-af8e-02720bf2b92e",
   "metadata": {},
   "outputs": [],
   "source": [
    "def build_prompt(query, search_results):\n",
    "    prompt_template = \"\"\"\n",
    "QUESTION: {question}\n",
    "\n",
    "CONTEXT:\n",
    "{context}\n",
    "\n",
    "ANSWER:\n",
    "\"\"\".strip()\n",
    "\n",
    "    context = \"\"\n",
    "    \n",
    "    for doc in search_results:\n",
    "        context = context + f\"{doc['question']}\\n{doc['text']}\\n\\n\"\n",
    "    \n",
    "    prompt = prompt_template.format(question=query, context=context).strip()\n",
    "    return prompt\n",
    "\n",
    "def llm(prompt):\n",
    "    response = generator(prompt, max_length=500, temperature=0.7, top_p=0.95, num_return_sequences=1)\n",
    "    response_final = response[0]['generated_text']    \n",
    "    return response_final[len(prompt):].strip()"
   ]
  },
  {
   "cell_type": "code",
   "execution_count": 14,
   "id": "f5a3cee4-7b2e-400b-9b54-f889ccde12bd",
   "metadata": {},
   "outputs": [
    {
     "name": "stderr",
     "output_type": "stream",
     "text": [
      "Truncation was not explicitly activated but `max_length` is provided a specific value, please use `truncation=True` to explicitly truncate examples to max length. Defaulting to 'longest_first' truncation strategy. If you encode pairs of sequences (GLUE-style) with the tokenizer you can select this strategy more precisely by providing a specific strategy to `truncation`.\n",
      "/opt/saturncloud/envs/saturn/lib/python3.9/site-packages/transformers/generation/configuration_utils.py:515: UserWarning: `do_sample` is set to `False`. However, `temperature` is set to `0.7` -- this flag is only used in sample-based generation modes. You should set `do_sample=True` or unset `temperature`.\n",
      "  warnings.warn(\n",
      "/opt/saturncloud/envs/saturn/lib/python3.9/site-packages/transformers/generation/configuration_utils.py:520: UserWarning: `do_sample` is set to `False`. However, `top_p` is set to `0.95` -- this flag is only used in sample-based generation modes. You should set `do_sample=True` or unset `top_p`.\n",
      "  warnings.warn(\n",
      "Setting `pad_token_id` to `eos_token_id`:2 for open-end generation.\n",
      "/opt/saturncloud/envs/saturn/lib/python3.9/site-packages/bitsandbytes/nn/modules.py:426: UserWarning: Input type into Linear4bit is torch.float16, but bnb_4bit_compute_dtype=torch.float32 (default). This will lead to slow inference or training speed.\n",
      "  warnings.warn(\n"
     ]
    },
    {
     "name": "stdout",
     "output_type": "stream",
     "text": [
      "Yes, you can still join the course.\n"
     ]
    }
   ],
   "source": [
    "print(rag(\"I just discovered the course. Can I still join it?\"))"
   ]
  },
  {
   "cell_type": "code",
   "execution_count": null,
   "id": "83aff4ec",
   "metadata": {},
   "outputs": [],
   "source": []
  }
 ],
 "metadata": {
  "kernelspec": {
   "display_name": "saturn (Python 3)",
   "language": "python",
   "name": "python3"
  },
  "language_info": {
   "codemirror_mode": {
    "name": "ipython",
    "version": 3
   },
   "file_extension": ".py",
   "mimetype": "text/x-python",
   "name": "python",
   "nbconvert_exporter": "python",
   "pygments_lexer": "ipython3",
   "version": "3.9.18"
  }
 },
 "nbformat": 4,
 "nbformat_minor": 5
}
