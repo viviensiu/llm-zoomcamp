{
 "cells": [
  {
   "cell_type": "code",
   "execution_count": 1,
   "id": "4e071076-fdc1-4680-971b-a454ee7d6de8",
   "metadata": {},
   "outputs": [
    {
     "name": "stderr",
     "output_type": "stream",
     "text": [
      "/Users/viviensiew/.local/share/virtualenvs/llm-zoomcamp-0DI9tvdQ/lib/python3.12/site-packages/tqdm/auto.py:21: TqdmWarning: IProgress not found. Please update jupyter and ipywidgets. See https://ipywidgets.readthedocs.io/en/stable/user_install.html\n",
      "  from .autonotebook import tqdm as notebook_tqdm\n"
     ]
    }
   ],
   "source": [
    "import requests \n",
    "import pandas as pd\n",
    "from sentence_transformers import SentenceTransformer\n",
    "from elasticsearch import Elasticsearch\n",
    "from tqdm.auto import tqdm\n",
    "from openai import OpenAI\n",
    "from concurrent.futures import ThreadPoolExecutor\n",
    "import seaborn as sns\n",
    "import matplotlib.pyplot as plt\n",
    "import json"
   ]
  },
  {
   "cell_type": "markdown",
   "id": "208b15d9-b498-4eac-a841-97ef821e035b",
   "metadata": {},
   "source": [
    "## Module 4.3"
   ]
  },
  {
   "cell_type": "markdown",
   "id": "d6f93bb3-b239-458f-9bf8-4c6309f31baf",
   "metadata": {},
   "source": [
    "### Data Preparation for Evaluation"
   ]
  },
  {
   "cell_type": "markdown",
   "id": "ea07a5d0-b682-43ab-8f78-c40bf7613d82",
   "metadata": {},
   "source": [
    "Load documents with IDs"
   ]
  },
  {
   "cell_type": "code",
   "execution_count": 2,
   "id": "910197dc-4930-40c7-8bf7-1ab3dc870bed",
   "metadata": {},
   "outputs": [],
   "source": [
    "base_url = 'https://github.com/DataTalksClub/llm-zoomcamp/blob/main'\n",
    "relative_url = '03-vector-search/eval/documents-with-ids.json'\n",
    "docs_url = f'{base_url}/{relative_url}?raw=1'\n",
    "docs_response = requests.get(docs_url)\n",
    "documents = docs_response.json()"
   ]
  },
  {
   "cell_type": "code",
   "execution_count": 3,
   "id": "1d5e4e4a-35d2-465f-bef6-c6008febf01c",
   "metadata": {},
   "outputs": [
    {
     "data": {
      "text/plain": [
       "{'text': 'It depends on your background and previous experience with modules. It is expected to require about 5 - 15 hours per week. [source1] [source2]\\nYou can also calculate it yourself using this data and then update this answer.',\n",
       " 'section': 'General course-related questions',\n",
       " 'question': 'Course - \\u200b\\u200bHow many hours per week am I expected to spend on this  course?',\n",
       " 'course': 'data-engineering-zoomcamp',\n",
       " 'id': 'ea739c65'}"
      ]
     },
     "execution_count": 3,
     "metadata": {},
     "output_type": "execute_result"
    }
   ],
   "source": [
    "documents[10]"
   ]
  },
  {
   "cell_type": "markdown",
   "id": "7f44ed15-f55e-4d25-bf4a-f38d83a84282",
   "metadata": {},
   "source": [
    "Load ground truth"
   ]
  },
  {
   "cell_type": "code",
   "execution_count": 4,
   "id": "650a99c5-5a49-41b1-868f-e24205aff9a2",
   "metadata": {},
   "outputs": [],
   "source": [
    "base_url = 'https://github.com/DataTalksClub/llm-zoomcamp/blob/main'\n",
    "relative_url = '03-vector-search/eval/ground-truth-data.csv'\n",
    "ground_truth_url = f'{base_url}/{relative_url}?raw=1'\n",
    "\n",
    "df_ground_truth = pd.read_csv(ground_truth_url)\n",
    "df_ground_truth = df_ground_truth[df_ground_truth.course == 'machine-learning-zoomcamp']\n",
    "ground_truth = df_ground_truth.to_dict(orient='records')"
   ]
  },
  {
   "cell_type": "code",
   "execution_count": 5,
   "id": "1c046241-332f-4af6-8c0c-60d43a311445",
   "metadata": {},
   "outputs": [
    {
     "data": {
      "text/plain": [
       "{'question': 'Are sessions recorded if I miss one?',\n",
       " 'course': 'machine-learning-zoomcamp',\n",
       " 'document': '5170565b'}"
      ]
     },
     "execution_count": 5,
     "metadata": {},
     "output_type": "execute_result"
    }
   ],
   "source": [
    "ground_truth[10]"
   ]
  },
  {
   "cell_type": "code",
   "execution_count": 6,
   "id": "e5e01019-63ed-41e3-a572-a7eae75e4d64",
   "metadata": {},
   "outputs": [
    {
     "data": {
      "text/plain": [
       "'Everything is recorded, so you won’t miss anything. You will be able to ask your questions for office hours in advance and we will cover them during the live stream. Also, you can always ask questions in Slack.'"
      ]
     },
     "execution_count": 6,
     "metadata": {},
     "output_type": "execute_result"
    }
   ],
   "source": [
    "doc_idx = {d['id']: d for d in documents}\n",
    "doc_idx['5170565b']['text']"
   ]
  },
  {
   "cell_type": "markdown",
   "id": "6b78c96e-45d1-4623-9e16-5fb135798fd7",
   "metadata": {},
   "source": [
    "### Index data with Elastic Search\n",
    "In Module 3, the vector created by combining question and text(answer) generated the best performance in ES Search. Hence an ES Index is created where it will perform semantic search (vector search) on the question_text_vector using the cosine similarity measure."
   ]
  },
  {
   "cell_type": "markdown",
   "id": "61671f22-6ec2-495c-a756-062dcfdc1836",
   "metadata": {},
   "source": [
    "Embedding model to embed question and text, plus the user query"
   ]
  },
  {
   "cell_type": "code",
   "execution_count": 7,
   "id": "7010ae13-9300-414c-bc37-4e173dc99068",
   "metadata": {},
   "outputs": [],
   "source": [
    "model_name = 'multi-qa-MiniLM-L6-cos-v1'\n",
    "model = SentenceTransformer(model_name)"
   ]
  },
  {
   "cell_type": "code",
   "execution_count": 8,
   "id": "efd1b01f-f6b3-4709-b575-4e2c0892d30d",
   "metadata": {},
   "outputs": [
    {
     "data": {
      "text/plain": [
       "ObjectApiResponse({'acknowledged': True, 'shards_acknowledged': True, 'index': 'course-questions'})"
      ]
     },
     "execution_count": 8,
     "metadata": {},
     "output_type": "execute_result"
    }
   ],
   "source": [
    "es_client = Elasticsearch('http://localhost:9200') \n",
    "\n",
    "index_settings = {\n",
    "    \"settings\": {\n",
    "        \"number_of_shards\": 1,\n",
    "        \"number_of_replicas\": 0\n",
    "    },\n",
    "    \"mappings\": {\n",
    "        \"properties\": {\n",
    "            \"text\": {\"type\": \"text\"},\n",
    "            \"section\": {\"type\": \"text\"},\n",
    "            \"question\": {\"type\": \"text\"},\n",
    "            \"course\": {\"type\": \"keyword\"},\n",
    "            \"id\": {\"type\": \"keyword\"},\n",
    "            \"question_text_vector\": {\n",
    "                \"type\": \"dense_vector\",\n",
    "                \"dims\": 384,\n",
    "                \"index\": True,\n",
    "                \"similarity\": \"cosine\"\n",
    "            },\n",
    "        }\n",
    "    }\n",
    "}\n",
    "\n",
    "index_name = \"course-questions\"\n",
    "\n",
    "es_client.indices.delete(index=index_name, ignore_unavailable=True)\n",
    "es_client.indices.create(index=index_name, body=index_settings)"
   ]
  },
  {
   "cell_type": "code",
   "execution_count": 9,
   "id": "6a087b0c-fd71-4108-a43f-8c48c5e29c8a",
   "metadata": {},
   "outputs": [
    {
     "name": "stderr",
     "output_type": "stream",
     "text": [
      "100%|████████████████████████████████████████████████████████████████████| 948/948 [01:45<00:00,  9.01it/s]\n"
     ]
    }
   ],
   "source": [
    "for doc in tqdm(documents):\n",
    "    question = doc['question']\n",
    "    text = doc['text']\n",
    "    doc['question_text_vector'] = model.encode(question + ' ' + text)\n",
    "\n",
    "    es_client.index(index=index_name, document=doc)"
   ]
  },
  {
   "cell_type": "markdown",
   "id": "306d8ddf-0a36-4f7c-8aa1-d9b1735b6065",
   "metadata": {},
   "source": [
    "### Retrieval using Elastic Search\n",
    "Retrieve the top 5 results based on cosine similarity between the embedded user query and the question_text_vector, filtered by course."
   ]
  },
  {
   "cell_type": "code",
   "execution_count": 10,
   "id": "f39493a5-bcff-42a6-8b0a-12e7b8791191",
   "metadata": {},
   "outputs": [],
   "source": [
    "def elastic_search_knn(field, vector, course):\n",
    "    knn = {\n",
    "        \"field\": field,\n",
    "        \"query_vector\": vector,\n",
    "        \"k\": 5,\n",
    "        \"num_candidates\": 10000,\n",
    "        \"filter\": {\n",
    "            \"term\": {\n",
    "                \"course\": course\n",
    "            }\n",
    "        }\n",
    "    }\n",
    "\n",
    "    search_query = {\n",
    "        \"knn\": knn,\n",
    "        \"_source\": [\"text\", \"section\", \"question\", \"course\", \"id\"]\n",
    "    }\n",
    "\n",
    "    es_results = es_client.search(\n",
    "        index=index_name,\n",
    "        body=search_query\n",
    "    )\n",
    "    \n",
    "    result_docs = []\n",
    "    \n",
    "    for hit in es_results['hits']['hits']:\n",
    "        result_docs.append(hit['_source'])\n",
    "\n",
    "    return result_docs\n",
    "\n",
    "def question_text_vector_knn(q):\n",
    "    question = q['question']\n",
    "    course = q['course']\n",
    "\n",
    "    v_q = model.encode(question)\n",
    "\n",
    "    return elastic_search_knn('question_text_vector', v_q, course)"
   ]
  },
  {
   "cell_type": "markdown",
   "id": "f21e2ccb-4d7e-4ef0-8ee1-50c67a2bf1c8",
   "metadata": {},
   "source": [
    "Example of retrieval using sample question 'Are sessions recorded if I miss one?'"
   ]
  },
  {
   "cell_type": "code",
   "execution_count": 11,
   "id": "bb4ecb00-b69e-4f35-8449-144d08f0ea4d",
   "metadata": {},
   "outputs": [
    {
     "data": {
      "text/plain": [
       "[{'question': 'What if I miss a session?',\n",
       "  'course': 'machine-learning-zoomcamp',\n",
       "  'section': 'General course-related questions',\n",
       "  'text': 'Everything is recorded, so you won’t miss anything. You will be able to ask your questions for office hours in advance and we will cover them during the live stream. Also, you can always ask questions in Slack.',\n",
       "  'id': '5170565b'},\n",
       " {'question': 'Is it going to be live? When?',\n",
       "  'course': 'machine-learning-zoomcamp',\n",
       "  'section': 'General course-related questions',\n",
       "  'text': 'The course videos are pre-recorded, you can start watching the course right now.\\nWe will also occasionally have office hours - live sessions where we will answer your questions. The office hours sessions are recorded too.\\nYou can see the office hours as well as the pre-recorded course videos in the course playlist on YouTube.',\n",
       "  'id': '39fda9f0'},\n",
       " {'question': 'The same accuracy on epochs',\n",
       "  'course': 'machine-learning-zoomcamp',\n",
       "  'section': '8. Neural Networks and Deep Learning',\n",
       "  'text': \"Problem description\\nThe accuracy and the loss are both still the same or nearly the same while training.\\nSolution description\\nIn the homework, you should set class_mode='binary' while reading the data.\\nAlso, problem occurs when you choose the wrong optimizer, batch size, or learning rate\\nAdded by Ekaterina Kutovaia\",\n",
       "  'id': '7d11d5ce'},\n",
       " {'question': 'Useful Resource for Missing Data Treatment\\nhttps://www.kaggle.com/code/parulpandey/a-guide-to-handling-missing-values-in-python/notebook',\n",
       "  'course': 'machine-learning-zoomcamp',\n",
       "  'section': '2. Machine Learning for Regression',\n",
       "  'text': '(Hrithik Kumar Advani)',\n",
       "  'id': '81b8e8d0'},\n",
       " {'question': 'Will I get a certificate if I missed the midterm project?',\n",
       "  'course': 'machine-learning-zoomcamp',\n",
       "  'section': 'General course-related questions',\n",
       "  'text': \"Yes, it's possible. See the previous answer.\",\n",
       "  'id': '1d644223'}]"
      ]
     },
     "execution_count": 11,
     "metadata": {},
     "output_type": "execute_result"
    }
   ],
   "source": [
    "question_text_vector_knn(dict(\n",
    "    question='Are sessions recorded if I miss one?',\n",
    "    course='machine-learning-zoomcamp'\n",
    "))"
   ]
  },
  {
   "cell_type": "markdown",
   "id": "8b79efaf-78b6-4859-af68-be8b09b9a9da",
   "metadata": {},
   "source": [
    "### The RAG flow\n",
    "This was what's done in Modules 1 & 2. A basic Q&A chatbot based on LLM-RAG framework, where Prompt + Retrieved context are fed to LLM for  response generation."
   ]
  },
  {
   "cell_type": "code",
   "execution_count": 12,
   "id": "cbb60ec4-5e46-47c9-8387-9bd1842fa4ec",
   "metadata": {},
   "outputs": [],
   "source": [
    "def build_prompt(query, search_results):\n",
    "    prompt_template = \"\"\"\n",
    "You're a course teaching assistant. Answer the QUESTION based on the CONTEXT from the FAQ database.\n",
    "Use only the facts from the CONTEXT when answering the QUESTION.\n",
    "\n",
    "QUESTION: {question}\n",
    "\n",
    "CONTEXT: \n",
    "{context}\n",
    "\"\"\".strip()\n",
    "\n",
    "    context = \"\"\n",
    "    \n",
    "    for doc in search_results:\n",
    "        context = context + f\"section: {doc['section']}\\nquestion: {doc['question']}\\nanswer: {doc['text']}\\n\\n\"\n",
    "    \n",
    "    prompt = prompt_template.format(question=query, context=context).strip()\n",
    "    return prompt"
   ]
  },
  {
   "cell_type": "markdown",
   "id": "b622b34e-9176-4b35-8535-80ab5725ec86",
   "metadata": {},
   "source": [
    "**Note**: GPT models used in the original notebook are replaced by Llama models served by Ollama\n",
    "- GPT-4o costs: \\$9.81 \n",
    "- GPT 3.5 cost: \\$0.81\n",
    "- GPT-4o mini costs: \\$0.13"
   ]
  },
  {
   "cell_type": "code",
   "execution_count": 13,
   "id": "e442ffd6-e77d-4a97-a0be-43f3ddf91b40",
   "metadata": {},
   "outputs": [],
   "source": [
    "# client = OpenAI()\n",
    "\n",
    "# def llm(prompt, model='gpt-4o'):\n",
    "#     response = client.chat.completions.create(\n",
    "#         model=model,\n",
    "#         messages=[{\"role\": \"user\", \"content\": prompt}]\n",
    "#     )\n",
    "    \n",
    "#     return response.choices[0].message.content"
   ]
  },
  {
   "cell_type": "code",
   "execution_count": 14,
   "id": "87963b3f-685c-48e3-8589-415ea877ac09",
   "metadata": {},
   "outputs": [],
   "source": [
    "client = OpenAI(\n",
    "    base_url='http://localhost:11434/v1/',\n",
    "    api_key='ollama',\n",
    ")\n",
    "\n",
    "def llm(prompt, model='llama2'):\n",
    "    response = client.chat.completions.create(\n",
    "        model=model,\n",
    "        messages=[{\"role\": \"user\", \"content\": prompt}]\n",
    "    )\n",
    "    \n",
    "    return response.choices[0].message.content"
   ]
  },
  {
   "cell_type": "markdown",
   "id": "9dce93e2-7f3d-47b0-83a3-40c33bb55152",
   "metadata": {},
   "source": [
    "RAG(): query dictionary consists of the user query and the course filter."
   ]
  },
  {
   "cell_type": "code",
   "execution_count": 15,
   "id": "9e0263a7-a742-4c97-a9f9-0a5e27ea674f",
   "metadata": {},
   "outputs": [],
   "source": [
    "# previously: rag(query: str) -> str\n",
    "def rag(query: dict, model='llama2:7b') -> str:\n",
    "    search_results = question_text_vector_knn(query)\n",
    "    prompt = build_prompt(query['question'], search_results)\n",
    "    answer = llm(prompt, model=model)\n",
    "    return answer"
   ]
  },
  {
   "cell_type": "markdown",
   "id": "8ed8f85a-3527-45fe-b093-2b0473a88251",
   "metadata": {},
   "source": [
    "### Example of evaluation\n",
    "* Here, we use a specific ground-truth record's question together with the expected answer (see document id), and feed this question + course to the RAG() function.\n",
    "* We then compare the response generated by RAG() with the answer text from the expected document (using document id from ground-truth data) to evaluate if the response is similar."
   ]
  },
  {
   "cell_type": "code",
   "execution_count": 16,
   "id": "dd9df051-d972-47f6-bf64-67b2e459f01c",
   "metadata": {},
   "outputs": [
    {
     "data": {
      "text/plain": [
       "{'question': 'Are sessions recorded if I miss one?',\n",
       " 'course': 'machine-learning-zoomcamp',\n",
       " 'document': '5170565b'}"
      ]
     },
     "execution_count": 16,
     "metadata": {},
     "output_type": "execute_result"
    }
   ],
   "source": [
    "ground_truth[10]"
   ]
  },
  {
   "cell_type": "code",
   "execution_count": 17,
   "id": "ce08c232-b66d-45d8-9de9-bacb32c3b299",
   "metadata": {},
   "outputs": [
    {
     "name": "stderr",
     "output_type": "stream",
     "text": [
      "huggingface/tokenizers: The current process just got forked, after parallelism has already been used. Disabling parallelism to avoid deadlocks...\n",
      "To disable this warning, you can either:\n",
      "\t- Avoid using `tokenizers` before the fork if possible\n",
      "\t- Explicitly set the environment variable TOKENIZERS_PARALLELISM=(true | false)\n"
     ]
    },
    {
     "data": {
      "text/plain": [
       "'Based on the provided context, the answer to the question \"Are sessions recorded if I miss one?\" is yes. Everything is recorded, so you won’t miss anything, and you will be able to ask your questions for office hours in advance and we will cover them during the live stream. Additionally, you can always ask questions in Slack.'"
      ]
     },
     "execution_count": 17,
     "metadata": {},
     "output_type": "execute_result"
    }
   ],
   "source": [
    "rag(ground_truth[10])"
   ]
  },
  {
   "cell_type": "code",
   "execution_count": 18,
   "id": "33fbffc5-08e5-47fc-b104-247b59cb221f",
   "metadata": {},
   "outputs": [
    {
     "data": {
      "text/plain": [
       "'Everything is recorded, so you won’t miss anything. You will be able to ask your questions for office hours in advance and we will cover them during the live stream. Also, you can always ask questions in Slack.'"
      ]
     },
     "execution_count": 18,
     "metadata": {},
     "output_type": "execute_result"
    }
   ],
   "source": [
    "doc_idx['5170565b']['text']"
   ]
  },
  {
   "cell_type": "markdown",
   "id": "a6f3ad3a-3826-4ff6-a79c-400e0f42344e",
   "metadata": {},
   "source": [
    "### Cosine similarity metric\n",
    "We use this to quantify the similarity between expected answer from ground-truth data and LLM response."
   ]
  },
  {
   "cell_type": "code",
   "execution_count": 19,
   "id": "2f47336c-9f02-43ca-b071-091dc077909b",
   "metadata": {},
   "outputs": [
    {
     "data": {
      "text/plain": [
       "0.7591171"
      ]
     },
     "execution_count": 19,
     "metadata": {},
     "output_type": "execute_result"
    }
   ],
   "source": [
    "answer_orig = 'Yes, sessions are recorded if you miss one. Everything is recorded, allowing you to catch up on any missed content. Additionally, you can ask questions in advance for office hours and have them addressed during the live stream. You can also ask questions in Slack.'\n",
    "answer_llm = 'Everything is recorded, so you won’t miss anything. You will be able to ask your questions for office hours in advance and we will cover them during the live stream. Also, you can always ask questions in Slack.'\n",
    "\n",
    "v_llm = model.encode(answer_llm)\n",
    "v_orig = model.encode(answer_orig)\n",
    "\n",
    "v_llm.dot(v_orig)"
   ]
  },
  {
   "cell_type": "code",
   "execution_count": 20,
   "id": "a31ce953-ad0f-4228-8cb1-4a9917b7904a",
   "metadata": {},
   "outputs": [
    {
     "data": {
      "text/plain": [
       "{'question': 'Where can I sign up for the course?',\n",
       " 'course': 'machine-learning-zoomcamp',\n",
       " 'document': '0227b872'}"
      ]
     },
     "execution_count": 20,
     "metadata": {},
     "output_type": "execute_result"
    }
   ],
   "source": [
    "ground_truth[0]"
   ]
  },
  {
   "cell_type": "markdown",
   "id": "636a1ebc-8141-4c4d-bf33-49b19d65ce59",
   "metadata": {},
   "source": [
    "Trying to estimate how much data to process and how much this may cost in GPT-4o"
   ]
  },
  {
   "cell_type": "code",
   "execution_count": 21,
   "id": "6bfca5b6-9248-49a8-8aea-87bb64e67b4d",
   "metadata": {},
   "outputs": [
    {
     "data": {
      "text/plain": [
       "1830"
      ]
     },
     "execution_count": 21,
     "metadata": {},
     "output_type": "execute_result"
    }
   ],
   "source": [
    "len(ground_truth)"
   ]
  },
  {
   "cell_type": "code",
   "execution_count": 23,
   "id": "dc31a782-aded-40dd-8020-d601d42d9072",
   "metadata": {},
   "outputs": [],
   "source": [
    "answer = {}"
   ]
  },
  {
   "cell_type": "markdown",
   "id": "c9d1899e-695e-4287-86d1-e3a87f60a533",
   "metadata": {},
   "source": [
    "### Evaluate Llama2-7B performance on ground-truth data \n",
    "\n",
    "For each question in ground-truth data,\n",
    "- generate Llama2-7B answer using RAG()\n",
    "- Save a record of Llama2-7B answer vs ground-truth answer.\n",
    "- answer dictionary is used for skipping over previously executed queries (in case of having to rerun the code block due to rate limit)"
   ]
  },
  {
   "cell_type": "code",
   "execution_count": 24,
   "id": "ac0ca3b0-4066-4e7c-b6c9-beb45f4dbfe4",
   "metadata": {},
   "outputs": [
    {
     "name": "stderr",
     "output_type": "stream",
     "text": [
      "100%|████████████████████████████████████████████████████████████████| 1830/1830 [5:03:07<00:00,  9.94s/it]\n"
     ]
    }
   ],
   "source": [
    "for i, rec in enumerate(tqdm(ground_truth)):\n",
    "    if i in answers:\n",
    "        continue\n",
    "\n",
    "    answer_llm = rag(rec)\n",
    "    doc_id = rec['document']\n",
    "    original_doc = doc_idx[doc_id]\n",
    "    answer_orig = original_doc['text']\n",
    "\n",
    "    answers[i] = {\n",
    "        'answer_llm': answer_llm,\n",
    "        'answer_orig': answer_orig,\n",
    "        'document': doc_id,\n",
    "        'question': rec['question'],\n",
    "        'course': rec['course'],\n",
    "    }"
   ]
  },
  {
   "cell_type": "markdown",
   "id": "1656b770-b246-4696-ba77-4607e5437f7b",
   "metadata": {},
   "source": [
    "### Save LLM responses\n",
    "Save the Llama2-7B responses to CSV file."
   ]
  },
  {
   "cell_type": "code",
   "execution_count": 25,
   "id": "cdeac210-c7ed-4d12-b6b5-cc53f3e9c6f3",
   "metadata": {},
   "outputs": [],
   "source": [
    "# results_gpt4o = [None] * len(ground_truth)\n",
    "\n",
    "# for i, val in answers.items():\n",
    "#     results_gpt4o[i] = val.copy()\n",
    "#     results_gpt4o[i].update(ground_truth[i])\n",
    "results_llama2_7b = [None] * len(ground_truth)\n",
    "\n",
    "for i, val in answers.items():\n",
    "    results_llama2_7b[i] = val.copy()\n",
    "    results_llama2_7b[i].update(ground_truth[i])"
   ]
  },
  {
   "cell_type": "code",
   "execution_count": 26,
   "id": "a598b5dd-1bff-4161-89ff-8f521d280627",
   "metadata": {},
   "outputs": [],
   "source": [
    "# df_gpt4o = pd.DataFrame(results_gpt4o)\n",
    "df_llama2_7b = pd.DataFrame(results_llama2_7b)"
   ]
  },
  {
   "cell_type": "code",
   "execution_count": 27,
   "id": "cb796dbd-2001-45e3-bd2c-c33a077374d5",
   "metadata": {},
   "outputs": [
    {
     "name": "stderr",
     "output_type": "stream",
     "text": [
      "huggingface/tokenizers: The current process just got forked, after parallelism has already been used. Disabling parallelism to avoid deadlocks...\n",
      "To disable this warning, you can either:\n",
      "\t- Avoid using `tokenizers` before the fork if possible\n",
      "\t- Explicitly set the environment variable TOKENIZERS_PARALLELISM=(true | false)\n"
     ]
    }
   ],
   "source": [
    "!mkdir data"
   ]
  },
  {
   "cell_type": "code",
   "execution_count": 28,
   "id": "b986f82d-9abf-45ee-bdbf-0d90dd078b75",
   "metadata": {},
   "outputs": [],
   "source": [
    "# df_gpt4o.to_csv('data/results-gpt4o.csv', index=False)\n",
    "df_llama2_7b.to_csv('data/results-llama2-7b.csv', index=False)"
   ]
  },
  {
   "cell_type": "markdown",
   "id": "1729cb9e-d475-48d2-97ce-e30e7de6d86e",
   "metadata": {},
   "source": [
    "### Evaluating Llama3-8B"
   ]
  },
  {
   "cell_type": "code",
   "execution_count": 29,
   "id": "8091a742-89d4-4814-b26a-d0ca8d98cdb1",
   "metadata": {},
   "outputs": [
    {
     "data": {
      "text/plain": [
       "'Based on the context, here\\'s my answer:\\n\\nYes, sessions are recorded if you miss one! According to the FAQ database, \"Everything is recorded, so you won’t miss anything.\" This includes both pre-recorded course videos and office hours sessions, which are also recorded. You can access these recordings in the course playlist on YouTube.'"
      ]
     },
     "execution_count": 29,
     "metadata": {},
     "output_type": "execute_result"
    }
   ],
   "source": [
    "# rag(ground_truth[10], model='gpt-3.5-turbo')\n",
    "rag(ground_truth[10], model='llama3:8b')"
   ]
  },
  {
   "cell_type": "markdown",
   "id": "2ab8bff6-8e25-4d4f-8bc1-8ed8cdfe8f8e",
   "metadata": {},
   "source": [
    "### Parallel processing\n",
    "To speed up RAG() processing, use ThreadPoolExecutor to allow up to 6 concurrent threads processing the RAG() at the same time.\n",
    "\n",
    "See [ChatGPT's explanation on using ThreadPoolExecutor](https://chatgpt.com/share/c93c9a25-0fef-44cb-a1fd-1eaaf554f8be)"
   ]
  },
  {
   "cell_type": "code",
   "execution_count": 30,
   "id": "2c8fb2ea-33c9-4135-9930-d44984471f57",
   "metadata": {},
   "outputs": [],
   "source": [
    "pool = ThreadPoolExecutor(max_workers=6)\n",
    "\n",
    "def map_progress(pool, seq, f):\n",
    "    '''\n",
    "        pool - the pool to have multiple threads running\n",
    "        el - sequence to execute the function\n",
    "        f - the function to be invoked\n",
    "    '''\n",
    "    results = []\n",
    "\n",
    "    with tqdm(total=len(seq)) as progress:\n",
    "        futures = []\n",
    "\n",
    "        for el in seq:\n",
    "            future = pool.submit(f, el)\n",
    "            future.add_done_callback(lambda p: progress.update())\n",
    "            futures.append(future)\n",
    "\n",
    "        for future in futures:\n",
    "            result = future.result()\n",
    "            results.append(result)\n",
    "\n",
    "    return results"
   ]
  },
  {
   "cell_type": "markdown",
   "id": "eec2be83-a768-4a82-a67b-b2982d0e86e3",
   "metadata": {},
   "source": [
    "**Note**: If the map_progress() breaks, the whole process needs to rerun again from the beginning of ground-truth data, hence incurring duplicate rates!"
   ]
  },
  {
   "cell_type": "code",
   "execution_count": 31,
   "id": "3d2cf707-51da-40df-a0b4-65b40c645b24",
   "metadata": {},
   "outputs": [],
   "source": [
    "def process_record(rec):\n",
    "    # model = 'gpt-3.5-turbo'\n",
    "    model = 'llama3:8b'\n",
    "    answer_llm = rag(rec, model=model)\n",
    "    \n",
    "    doc_id = rec['document']\n",
    "    original_doc = doc_idx[doc_id]\n",
    "    answer_orig = original_doc['text']\n",
    "\n",
    "    return {\n",
    "        'answer_llm': answer_llm,\n",
    "        'answer_orig': answer_orig,\n",
    "        'document': doc_id,\n",
    "        'question': rec['question'],\n",
    "        'course': rec['course'],\n",
    "    }"
   ]
  },
  {
   "cell_type": "code",
   "execution_count": 32,
   "id": "eae37936-ca66-427f-aa91-6a08ddebee23",
   "metadata": {},
   "outputs": [
    {
     "data": {
      "text/plain": [
       "{'answer_llm': 'Based on the CONTEXT, the answer to your QUESTION is:\\n\\nYES, sessions are recorded even if you miss one. According to the FAQ database, \"Everything is recorded, so you won’t miss anything.\" This applies to both pre-recorded course videos and office hours sessions.',\n",
       " 'answer_orig': 'Everything is recorded, so you won’t miss anything. You will be able to ask your questions for office hours in advance and we will cover them during the live stream. Also, you can always ask questions in Slack.',\n",
       " 'document': '5170565b',\n",
       " 'question': 'Are sessions recorded if I miss one?',\n",
       " 'course': 'machine-learning-zoomcamp'}"
      ]
     },
     "execution_count": 32,
     "metadata": {},
     "output_type": "execute_result"
    }
   ],
   "source": [
    "process_record(ground_truth[10])"
   ]
  },
  {
   "cell_type": "code",
   "execution_count": 33,
   "id": "2ae15ea0-b7aa-410c-9a1f-d15507b5b0e2",
   "metadata": {},
   "outputs": [
    {
     "name": "stderr",
     "output_type": "stream",
     "text": [
      "100%|████████████████████████████████████████████████████████████████| 1830/1830 [3:12:05<00:00,  6.30s/it]\n",
      "  7%|████▏                                                            | 119/1830 [09:22<3:36:27,  7.59s/it]"
     ]
    }
   ],
   "source": [
    "# results_gpt35 = map_progress(pool, ground_truth, process_record)\n",
    "results_llama3_8b = map_progress(pool, ground_truth, process_record)"
   ]
  },
  {
   "cell_type": "code",
   "execution_count": 34,
   "id": "cffb415a-f970-4ff4-acda-f1a40791b604",
   "metadata": {},
   "outputs": [],
   "source": [
    "# df_gpt35 = pd.DataFrame(results_gpt35)\n",
    "# df_gpt35.to_csv('data/results-gpt35.csv', index=False)\n",
    "df_llama3_8b = pd.DataFrame(results_llama3_8b)\n",
    "df_llama3_8b.to_csv('data/results-llama3-8b.csv', index=False)"
   ]
  },
  {
   "cell_type": "code",
   "execution_count": 35,
   "id": "2847783b-65ce-4d38-8665-b16dc7c80569",
   "metadata": {},
   "outputs": [
    {
     "name": "stderr",
     "output_type": "stream",
     "text": [
      "huggingface/tokenizers: The current process just got forked, after parallelism has already been used. Disabling parallelism to avoid deadlocks...\n",
      "To disable this warning, you can either:\n",
      "\t- Avoid using `tokenizers` before the fork if possible\n",
      "\t- Explicitly set the environment variable TOKENIZERS_PARALLELISM=(true | false)\n"
     ]
    },
    {
     "name": "stdout",
     "output_type": "stream",
     "text": [
      "answer_llm,answer_orig,document,question,course\n",
      "\"Based on the CONTEXT, you can sign up for the course by going to the course page (http://mlzoomcamp.com/) and starting to go through the course materials, including videos, office hours, and reading everything in the cohort folder for your cohort's year. You can also access the syllabus directly from this link: http://mlzoomcamp.com/#syllabus\",\"Machine Learning Zoomcamp FAQ\n",
      "The purpose of this document is to capture frequently asked technical questions.\n",
      "We did this for our data engineering course and it worked quite well. Check this document for inspiration on how to structure your questions and answers:\n",
      "Data Engineering Zoomcamp FAQ\n",
      "In the course GitHub repository there’s a link. Here it is: https://airtable.com/shryxwLd0COOEaqXo\n",
      "work\",0227b872,Where can I sign up for the course?,machine-learning-zoomcamp\n",
      "\"I'm happy to help! However, since the question is \"\"Can you provide a link to sign up?\"\" and there's no relevant information in the FAQ database, I must answer:\n",
      "\n",
      "Unfortunately, there is no link provided for signing up. You may want to check other sources or contact the course organizers directly for more information on how to enroll in the Machine Learning Zoomcamp.\",\"Machine Learning Zoomcamp FAQ\n"
     ]
    }
   ],
   "source": [
    "# !head data/results-gpt35.csv\n",
    "!head data/results-llama3-8b.csv"
   ]
  },
  {
   "cell_type": "markdown",
   "id": "85d7901f-5fa4-4284-a8ef-e01edc8daab9",
   "metadata": {},
   "source": [
    "## Module 4.4"
   ]
  },
  {
   "cell_type": "markdown",
   "id": "2f7f859e-a924-451f-873d-8b036783c363",
   "metadata": {},
   "source": [
    "### Cosine similarity\n",
    "A->Q->A' cosine similarity, \n",
    "\n",
    "A -> Q -> A', where \n",
    "* A: original answer,\n",
    "* Q: The question generated by LLM based on original answer,\n",
    "* A': The LLM answer generated by using Q to ask the LLM. \n",
    "\n",
    "Now we can evaluate the generated answers by computing the cosine similarity between A and A':\n",
    "* cosine(A, A')\n",
    "\n"
   ]
  },
  {
   "cell_type": "markdown",
   "id": "446c7974-61c2-4520-9f2d-c3ff92d26152",
   "metadata": {},
   "source": [
    "### Evaluating Llama2-7B\n",
    "We start by evaluating the original answers from ground-truth data and answers generated by Llama2-7B"
   ]
  },
  {
   "cell_type": "code",
   "execution_count": 36,
   "id": "b45aa65b-24be-4670-afbe-f8a8edc2e99e",
   "metadata": {},
   "outputs": [],
   "source": [
    "# results_gpt4o = df_gpt4o.to_dict(orient='records')\n",
    "results_llama2_7b = df_llama2_7b.to_dict(orient='records')"
   ]
  },
  {
   "cell_type": "code",
   "execution_count": 37,
   "id": "126107dd-7220-44b2-87ea-8bc4a8c40183",
   "metadata": {},
   "outputs": [],
   "source": [
    "# record = results_gpt4o[0]\n",
    "record = results_llama2_7b[0]"
   ]
  },
  {
   "cell_type": "code",
   "execution_count": 38,
   "id": "462b7256-cb35-43f3-8f5f-ba9283612b73",
   "metadata": {},
   "outputs": [],
   "source": [
    "def compute_similarity(record):\n",
    "    answer_orig = record['answer_orig']\n",
    "    answer_llm = record['answer_llm']\n",
    "    \n",
    "    v_llm = model.encode(answer_llm)\n",
    "    v_orig = model.encode(answer_orig)\n",
    "    \n",
    "    return v_llm.dot(v_orig)"
   ]
  },
  {
   "cell_type": "code",
   "execution_count": 39,
   "id": "04852cdb-bcdc-467f-abae-ede6cabd1b7b",
   "metadata": {},
   "outputs": [
    {
     "name": "stderr",
     "output_type": "stream",
     "text": [
      "100%|██████████████████████████████████████████████████████████████████| 1830/1830 [02:57<00:00, 10.32it/s]\n"
     ]
    }
   ],
   "source": [
    "similarity = []\n",
    "\n",
    "# for record in tqdm(results_gpt4o):\n",
    "for record in tqdm(results_llama2_7b):\n",
    "    sim = compute_similarity(record)\n",
    "    similarity.append(sim)"
   ]
  },
  {
   "cell_type": "markdown",
   "id": "3f054303-e334-42c9-a73f-92be8a6373cb",
   "metadata": {},
   "source": [
    "Save the calculated cosine similarity into a new field \"cosine\"."
   ]
  },
  {
   "cell_type": "markdown",
   "id": "cc7728b6-1fe4-430d-9684-6d7893de6102",
   "metadata": {},
   "source": [
    "### Cosine similarity statistics\n",
    "We could look at the mean, median to have an idea of Llama2-7B's performance."
   ]
  },
  {
   "cell_type": "code",
   "execution_count": 40,
   "id": "301541c0-800c-424a-b9ab-f1f03d9366e0",
   "metadata": {},
   "outputs": [
    {
     "data": {
      "text/plain": [
       "count    1830.000000\n",
       "mean        0.636076\n",
       "std         0.218703\n",
       "min        -0.145400\n",
       "25%         0.527626\n",
       "50%         0.690810\n",
       "75%         0.795731\n",
       "max         0.963503\n",
       "Name: cosine, dtype: float64"
      ]
     },
     "execution_count": 40,
     "metadata": {},
     "output_type": "execute_result"
    }
   ],
   "source": [
    "# df_gpt4o['cosine'] = similarity\n",
    "# df_gpt4o['cosine'].describe()\n",
    "df_llama2_7b['cosine'] = similarity\n",
    "df_llama2_7b['cosine'].describe()"
   ]
  },
  {
   "cell_type": "markdown",
   "id": "5bdac97d-db36-4cc6-a6fb-e88aaa92a5fd",
   "metadata": {},
   "source": [
    "### Evaluating Llama3-8B"
   ]
  },
  {
   "cell_type": "code",
   "execution_count": 41,
   "id": "8f8745ed-79ca-41a0-be56-9830029857a0",
   "metadata": {},
   "outputs": [
    {
     "name": "stderr",
     "output_type": "stream",
     "text": [
      "100%|██████████████████████████████████████████████████████████████████| 1830/1830 [00:57<00:00, 31.83it/s]\n"
     ]
    }
   ],
   "source": [
    "# results_gpt35 = df_gpt35.to_dict(orient='records')\n",
    "\n",
    "# similarity_35 = []\n",
    "\n",
    "# for record in tqdm(results_gpt35):\n",
    "#     sim = compute_similarity(record)\n",
    "#     similarity_35.append(sim)\n",
    "\n",
    "results_llama3_8b = df_llama3_8b.to_dict(orient='records')\n",
    "\n",
    "similarity_8b = []\n",
    "\n",
    "for record in tqdm(results_llama3_8b):\n",
    "    sim = compute_similarity(record)\n",
    "    similarity_8b.append(sim)"
   ]
  },
  {
   "cell_type": "code",
   "execution_count": 42,
   "id": "17fcf657-1732-4b46-8a35-e089c2a5cfa5",
   "metadata": {},
   "outputs": [
    {
     "data": {
      "text/plain": [
       "count    1830.000000\n",
       "mean        0.653765\n",
       "std         0.220155\n",
       "min        -0.165071\n",
       "25%         0.554399\n",
       "50%         0.705862\n",
       "75%         0.810571\n",
       "max         0.976565\n",
       "Name: cosine, dtype: float64"
      ]
     },
     "execution_count": 42,
     "metadata": {},
     "output_type": "execute_result"
    }
   ],
   "source": [
    "# df_gpt35['cosine'] = similarity_35\n",
    "# df_gpt35['cosine'].describe()\n",
    "df_llama3_8b['cosine'] = similarity_8b\n",
    "df_llama3_8b['cosine'].describe()"
   ]
  },
  {
   "cell_type": "markdown",
   "id": "cdad6542-2273-44c6-bd4f-2fe2996a607a",
   "metadata": {},
   "source": [
    "See guide on [replacing Seaborn's distplot with displot](https://gist.github.com/mwaskom/de44147ed2974457ad6372750bbe5751) "
   ]
  },
  {
   "cell_type": "code",
   "execution_count": 48,
   "id": "405d93fd-2601-4611-b856-6f0f4180db00",
   "metadata": {},
   "outputs": [
    {
     "data": {
      "image/png": "[encoded data removed]",
      "text/plain": [
       "<Figure size 500x500 with 1 Axes>"
      ]
     },
     "metadata": {},
     "output_type": "display_data"
    },
    {
     "data": {
      "image/png": "[encoded data removed]",
      "text/plain": [
       "<Figure size 500x500 with 1 Axes>"
      ]
     },
     "metadata": {},
     "output_type": "display_data"
    }
   ],
   "source": [
    "# sns.distplot(df_gpt35['cosine'], label='3.5')\n",
    "\n",
    "# sns.distplot(df_llama2_7b['cosine'], label='Llama2-7B')\n",
    "# sns.distplot(df_llama3_8b['cosine'], label='Llama3-8B')\n",
    "sns.displot(df_llama2_7b['cosine'], label='Llama2-7B', kde=True, alpha=.4, stat=\"density\", edgecolor=(1, 1, 1, .4))\n",
    "sns.displot(df_llama3_8b['cosine'], label='Llama3-8B', kde=True, alpha=.4, stat=\"density\", edgecolor=(1, 1, 1, .4))\n",
    "\n",
    "plt.title(\"RAG LLM performance\")\n",
    "plt.xlabel(\"A->Q->A' Cosine Similarity\")\n",
    "plt.legend()\n",
    "plt.show()"
   ]
  },
  {
   "cell_type": "markdown",
   "id": "45eff3c6-6b4d-4bd9-b94c-d5bee77f37df",
   "metadata": {},
   "source": [
    "### LLM-as-a-Judge Part 1"
   ]
  },
  {
   "cell_type": "markdown",
   "id": "2c566216-8070-4ac5-9b60-189a6565c9bf",
   "metadata": {},
   "source": [
    "For the LLM judge, create a prompt with the following:\n",
    "* Evaluator persona\n",
    "* context data for evaluation\n",
    "* evaluation metrics"
   ]
  },
  {
   "cell_type": "markdown",
   "id": "f19aec47-ae39-4983-b9c2-9389d4028e42",
   "metadata": {},
   "source": [
    "Prompt 1 will evaluate the relevance of the **generated answer** compared to the **original answer**."
   ]
  },
  {
   "cell_type": "code",
   "execution_count": 61,
   "id": "c53ef704-b2d2-4383-9383-9e46c57c624d",
   "metadata": {},
   "outputs": [],
   "source": [
    "prompt1_template = \"\"\"\n",
    "You are an expert evaluator for a Retrieval-Augmented Generation (RAG) system.\n",
    "Your task is to analyze the relevance of the generated answer compared to the original answer provided.\n",
    "Based on the relevance and similarity of the generated answer to the original answer, you will classify\n",
    "it as \"NON_RELEVANT\", \"PARTLY_RELEVANT\", or \"RELEVANT\".\n",
    "\n",
    "Here is the data for evaluation:\n",
    "\n",
    "Original Answer: {answer_orig}\n",
    "Generated Question: {question}\n",
    "Generated Answer: {answer_llm}\n",
    "\n",
    "Please analyze the content and context of the generated answer in relation to the original\n",
    "answer and provide your evaluation in parsable JSON without using code blocks:\n",
    "\n",
    "{{\n",
    "  \"Relevance\": \"NON_RELEVANT\" | \"PARTLY_RELEVANT\" | \"RELEVANT\",\n",
    "  \"Explanation\": \"[Provide a brief explanation for your evaluation]\"\n",
    "}}\n",
    "\"\"\".strip()\n",
    "\n",
    "prompt2_template = \"\"\"\n",
    "You are an expert evaluator for a Retrieval-Augmented Generation (RAG) system.\n",
    "Your task is to analyze the relevance of the generated answer to the given question.\n",
    "Based on the relevance of the generated answer, you will classify it\n",
    "as \"NON_RELEVANT\", \"PARTLY_RELEVANT\", or \"RELEVANT\".\n",
    "\n",
    "Here is the data for evaluation:\n",
    "\n",
    "Question: {question}\n",
    "Generated Answer: {answer_llm}\n",
    "\n",
    "Please analyze the content and context of the generated answer in relation to the question\n",
    "and provide your evaluation in parsable JSON without using code blocks:\n",
    "\n",
    "{{\n",
    "  \"Relevance\": \"NON_RELEVANT\" | \"PARTLY_RELEVANT\" | \"RELEVANT\",\n",
    "  \"Explanation\": \"[Provide a brief explanation for your evaluation]\"\n",
    "}}\n",
    "\"\"\".strip()\n"
   ]
  },
  {
   "cell_type": "markdown",
   "id": "f4333aa0-0acd-4c5e-8971-d20c2e704347",
   "metadata": {},
   "source": [
    "Sample 150 random records for evaluation"
   ]
  },
  {
   "cell_type": "code",
   "execution_count": 62,
   "id": "da5fb034-fb46-4f92-a1e6-33efa68d217b",
   "metadata": {},
   "outputs": [],
   "source": [
    "# df_sample = df_gpt4o_mini.sample(n=150, random_state=1)\n",
    "df_sample = df_llama3_8b.sample(n=150, random_state=1)"
   ]
  },
  {
   "cell_type": "code",
   "execution_count": 63,
   "id": "ac5ee657-c323-4d70-aa5a-037647dafdea",
   "metadata": {},
   "outputs": [],
   "source": [
    "samples = df_sample.to_dict(orient='records')"
   ]
  },
  {
   "cell_type": "code",
   "execution_count": 64,
   "id": "0cd07672-22a1-4fd7-90eb-67d179c116ba",
   "metadata": {},
   "outputs": [
    {
     "data": {
      "text/plain": [
       "{'answer_llm': 'The syntax for using `precision_recall_fscore_support` in Python is:\\n\\n```\\nfrom sklearn.metrics import precision_recall_fscore_support\\nprecision, recall, fscore, support = precision_recall_fscore_support(y_val, y_val_pred, zero_division=0)\\n```',\n",
       " 'answer_orig': 'Scikit-learn offers another way: precision_recall_fscore_support\\nExample:\\nfrom sklearn.metrics import precision_recall_fscore_support\\nprecision, recall, fscore, support = precision_recall_fscore_support(y_val, y_val_pred, zero_division=0)\\n(Gopakumar Gopinathan)',\n",
       " 'document': '403bbdd8',\n",
       " 'question': 'What is the syntax for using precision_recall_fscore_support in Python?',\n",
       " 'course': 'machine-learning-zoomcamp',\n",
       " 'cosine': 0.9033383131027222}"
      ]
     },
     "execution_count": 64,
     "metadata": {},
     "output_type": "execute_result"
    }
   ],
   "source": [
    "record = samples[0]\n",
    "record"
   ]
  },
  {
   "cell_type": "markdown",
   "id": "3469bfda-c9c7-47fd-aa8d-9f114f8de820",
   "metadata": {},
   "source": [
    "Below is an example of the LLM-as-a-judge prompt with context provided"
   ]
  },
  {
   "cell_type": "code",
   "execution_count": 65,
   "id": "a53bc95e-3d7b-477d-b786-38158c6fbf89",
   "metadata": {},
   "outputs": [
    {
     "name": "stdout",
     "output_type": "stream",
     "text": [
      "You are an expert evaluator for a Retrieval-Augmented Generation (RAG) system.\n",
      "Your task is to analyze the relevance of the generated answer compared to the original answer provided.\n",
      "Based on the relevance and similarity of the generated answer to the original answer, you will classify\n",
      "it as \"NON_RELEVANT\", \"PARTLY_RELEVANT\", or \"RELEVANT\".\n",
      "\n",
      "Here is the data for evaluation:\n",
      "\n",
      "Original Answer: Scikit-learn offers another way: precision_recall_fscore_support\n",
      "Example:\n",
      "from sklearn.metrics import precision_recall_fscore_support\n",
      "precision, recall, fscore, support = precision_recall_fscore_support(y_val, y_val_pred, zero_division=0)\n",
      "(Gopakumar Gopinathan)\n",
      "Generated Question: What is the syntax for using precision_recall_fscore_support in Python?\n",
      "Generated Answer: The syntax for using `precision_recall_fscore_support` in Python is:\n",
      "\n",
      "```\n",
      "from sklearn.metrics import precision_recall_fscore_support\n",
      "precision, recall, fscore, support = precision_recall_fscore_support(y_val, y_val_pred, zero_division=0)\n",
      "```\n",
      "\n",
      "Please analyze the content and context of the generated answer in relation to the original\n",
      "answer and provide your evaluation in parsable JSON without using code blocks:\n",
      "\n",
      "{\n",
      "  \"Relevance\": \"NON_RELEVANT\" | \"PARTLY_RELEVANT\" | \"RELEVANT\",\n",
      "  \"Explanation\": \"[Provide a brief explanation for your evaluation]\"\n",
      "}\n"
     ]
    }
   ],
   "source": [
    "prompt = prompt1_template.format(**record)\n",
    "print(prompt)"
   ]
  },
  {
   "cell_type": "code",
   "execution_count": 66,
   "id": "18aba9d2-7105-433f-99cc-c1182f2ca833",
   "metadata": {},
   "outputs": [],
   "source": [
    "# answer = llm(prompt, model='gpt-4o-mini')\n",
    "answer = llm(prompt, model='llama3:8b')"
   ]
  },
  {
   "cell_type": "code",
   "execution_count": 68,
   "id": "5a403233-455d-4067-8cbb-83e6168cd506",
   "metadata": {},
   "outputs": [
    {
     "data": {
      "text/plain": [
       "{'Relevance': 'PARTLY_RELEVANT',\n",
       " 'Explanation': 'The generated answer is partially relevant because it correctly provides the syntax for using `precision_recall_fscore_support` in Python. However, the example code provided is exactly the same as the original answer, which makes it not very original or creative. A more relevant and varied response would have been expected.'}"
      ]
     },
     "execution_count": 68,
     "metadata": {},
     "output_type": "execute_result"
    }
   ],
   "source": [
    "json.loads(answer)"
   ]
  },
  {
   "cell_type": "code",
   "execution_count": 67,
   "id": "39715b5c-711d-4ded-a94c-e805d37184b2",
   "metadata": {},
   "outputs": [
    {
     "name": "stderr",
     "output_type": "stream",
     "text": [
      "100%|████████████████████████████████████████████████████████████████████| 150/150 [11:58<00:00,  4.79s/it]\n"
     ]
    }
   ],
   "source": [
    "evaluations = []\n",
    "\n",
    "for record in tqdm(samples):\n",
    "    prompt = prompt1_template.format(**record)\n",
    "    # evaluation = llm(prompt, model='gpt-4o-mini')\n",
    "    evaluation = llm(prompt, model='llama3:8b')\n",
    "    evaluations.append(evaluation)"
   ]
  },
  {
   "cell_type": "code",
   "execution_count": 452,
   "id": "84f01d08-4fc5-435e-8815-38f03913da73",
   "metadata": {},
   "outputs": [],
   "source": [
    "json_evaluations = []\n",
    "\n",
    "for i, str_eval in enumerate(evaluations):\n",
    "    json_eval = json.loads(str_eval)\n",
    "    json_evaluations.append(json_eval)"
   ]
  },
  {
   "cell_type": "markdown",
   "id": "427117ee-392c-4574-abe3-1506c0317051",
   "metadata": {},
   "source": [
    "### JSON evaluation fixes"
   ]
  },
  {
   "cell_type": "code",
   "execution_count": 453,
   "id": "35f05554-41be-46d4-a42d-60e06610be33",
   "metadata": {},
   "outputs": [],
   "source": [
    "# i"
   ]
  },
  {
   "cell_type": "code",
   "execution_count": 454,
   "id": "e865ac7c-10ab-4f53-83de-326b75f91c1c",
   "metadata": {},
   "outputs": [],
   "source": [
    "# evaluations[i]"
   ]
  },
  {
   "cell_type": "code",
   "execution_count": 455,
   "id": "21113d89-8195-4e66-aeed-36e92637f4c9",
   "metadata": {},
   "outputs": [],
   "source": [
    "# evaluations[i] = \"\"\"{\\n  \"Relevance\": \"PARTLY_RELEVANT\",\\n  \"Explanation\": \"The generated answer is partially relevant because it does provide instructions on where to find information about installing TensorFlow GPU on Ubuntu. However, the original answer also mentioned specific links and resources that were not included in the generated answer. The generated answer only provided a brief summary of the available sources rather than providing detailed instructions like the original answer.\"\\n}\n",
    "# \"\"\""
   ]
  },
  {
   "cell_type": "markdown",
   "id": "9bfa9c0d-0cf4-4682-b72f-db6600d9230e",
   "metadata": {},
   "source": [
    "### Save evaluation results\n",
    "Save LLM-as-a-judge evaluation to Pandas DataFrame and look at the evaluation results."
   ]
  },
  {
   "cell_type": "code",
   "execution_count": 456,
   "id": "86bd8485-d6e3-4306-af03-175fd251c5e8",
   "metadata": {},
   "outputs": [],
   "source": [
    "df_evaluations = pd.DataFrame(json_evaluations)"
   ]
  },
  {
   "cell_type": "code",
   "execution_count": 457,
   "id": "996831cf-4202-4b1b-82f1-051c9c222b92",
   "metadata": {},
   "outputs": [
    {
     "data": {
      "text/plain": [
       "Relevance\n",
       "RELEVANT           80\n",
       "PARTLY_RELEVANT    61\n",
       "NON_RELEVANT        9\n",
       "Name: count, dtype: int64"
      ]
     },
     "execution_count": 457,
     "metadata": {},
     "output_type": "execute_result"
    }
   ],
   "source": [
    "df_evaluations.Relevance.value_counts()"
   ]
  },
  {
   "cell_type": "code",
   "execution_count": 458,
   "id": "4df1ca9d-f2a5-417f-8c5f-7468a1d638d3",
   "metadata": {},
   "outputs": [
    {
     "data": {
      "text/html": [
       "<div>\n",
       "<style scoped>\n",
       "    .dataframe tbody tr th:only-of-type {\n",
       "        vertical-align: middle;\n",
       "    }\n",
       "\n",
       "    .dataframe tbody tr th {\n",
       "        vertical-align: top;\n",
       "    }\n",
       "\n",
       "    .dataframe thead th {\n",
       "        text-align: right;\n",
       "    }\n",
       "</style>\n",
       "<table border=\"1\" class=\"dataframe\">\n",
       "  <thead>\n",
       "    <tr style=\"text-align: right;\">\n",
       "      <th></th>\n",
       "      <th>Relevance</th>\n",
       "      <th>Explanation</th>\n",
       "    </tr>\n",
       "  </thead>\n",
       "  <tbody>\n",
       "    <tr>\n",
       "      <th>27</th>\n",
       "      <td>NON_RELEVANT</td>\n",
       "      <td>The generated answer is not relevant to the or...</td>\n",
       "    </tr>\n",
       "    <tr>\n",
       "      <th>45</th>\n",
       "      <td>NON_RELEVANT</td>\n",
       "      <td>The generated answer provides instructions on ...</td>\n",
       "    </tr>\n",
       "    <tr>\n",
       "      <th>52</th>\n",
       "      <td>NON_RELEVANT</td>\n",
       "      <td>The generated answer provides a specific data ...</td>\n",
       "    </tr>\n",
       "    <tr>\n",
       "      <th>81</th>\n",
       "      <td>NON_RELEVANT</td>\n",
       "      <td>The generated answer does not match the origin...</td>\n",
       "    </tr>\n",
       "    <tr>\n",
       "      <th>93</th>\n",
       "      <td>NON_RELEVANT</td>\n",
       "      <td>The generated answer discusses the use of Dict...</td>\n",
       "    </tr>\n",
       "    <tr>\n",
       "      <th>117</th>\n",
       "      <td>NON_RELEVANT</td>\n",
       "      <td>The generated answer does not address the orig...</td>\n",
       "    </tr>\n",
       "    <tr>\n",
       "      <th>127</th>\n",
       "      <td>NON_RELEVANT</td>\n",
       "      <td>The generated answer appears to be a repetitio...</td>\n",
       "    </tr>\n",
       "    <tr>\n",
       "      <th>139</th>\n",
       "      <td>NON_RELEVANT</td>\n",
       "      <td>The generated answer appears to be unrelated t...</td>\n",
       "    </tr>\n",
       "    <tr>\n",
       "      <th>149</th>\n",
       "      <td>NON_RELEVANT</td>\n",
       "      <td>The generated answer mentions applying log tra...</td>\n",
       "    </tr>\n",
       "  </tbody>\n",
       "</table>\n",
       "</div>"
      ],
      "text/plain": [
       "        Relevance                                        Explanation\n",
       "27   NON_RELEVANT  The generated answer is not relevant to the or...\n",
       "45   NON_RELEVANT  The generated answer provides instructions on ...\n",
       "52   NON_RELEVANT  The generated answer provides a specific data ...\n",
       "81   NON_RELEVANT  The generated answer does not match the origin...\n",
       "93   NON_RELEVANT  The generated answer discusses the use of Dict...\n",
       "117  NON_RELEVANT  The generated answer does not address the orig...\n",
       "127  NON_RELEVANT  The generated answer appears to be a repetitio...\n",
       "139  NON_RELEVANT  The generated answer appears to be unrelated t...\n",
       "149  NON_RELEVANT  The generated answer mentions applying log tra..."
      ]
     },
     "execution_count": 458,
     "metadata": {},
     "output_type": "execute_result"
    }
   ],
   "source": [
    "df_evaluations[df_evaluations.Relevance == 'NON_RELEVANT'] #.to_dict(orient='records')"
   ]
  },
  {
   "cell_type": "markdown",
   "id": "0c913ff8-118a-4f55-ad42-dc3f50ebdf47",
   "metadata": {},
   "source": [
    "Look at record 27 to compare orignal and llm response to understand why this is evaluated as NON_RELEVANT"
   ]
  },
  {
   "cell_type": "code",
   "execution_count": 464,
   "id": "49dc681b-dd02-4893-b219-797fddf056ef",
   "metadata": {},
   "outputs": [
    {
     "name": "stdout",
     "output_type": "stream",
     "text": [
      "-----------LLM response-------------\n",
      "Based on the FAQ database, I found that in section 5. Deploying Machine Learning Models, there's a question \"Where does pipenv create environments and how does it name them?\" The answer is: It creates them in OS(X/Linux): ~/.local/share/virtualenvs/folder-name_cyrptic-hash, Windows: C:\\Users\\<USERNAME>\\.virtualenvs\\folder-name_cyrptic-hash.\n",
      "\n",
      "Now, if the region is configured by default, what is the alternative command?\n",
      "\n",
      "According to the context from section 9. Serverless Deep Learning, when configuring AWS after installing awscli, leaving everything as the provided defaults (except Access Key and Secret Access Key) is okay. Therefore, there is no alternative command mentioned in this context.\n",
      "\n",
      "So, the answer is: No alternative command is specified for a default region configuration.\n",
      "\n",
      "-----------original response-------------\n",
      "As per AWS documentation:\n",
      "https://docs.aws.amazon.com/AmazonECR/latest/userguide/docker-push-ecr-image.html\n",
      "You need to do: (change the fields in red)\n",
      "aws ecr get-login-password --region region | docker login --username AWS --password-stdin aws_account_id.dkr.ecr.region.amazonaws.com\n",
      "Alternatively you can run the following command without changing anything given you have a default region configured\n",
      "aws ecr get-login-password --region $(aws configure get region) | docker login --username AWS --password-stdin \"$(aws sts get-caller-identity --query \"Account\" --output text).dkr.ecr.$(aws configure get region).amazonaws.com\"\n",
      "Added by Humberto Rodriguez\n"
     ]
    }
   ],
   "source": [
    "print(\"-----------LLM response-------------\")\n",
    "print(samples[27][\"answer_llm\"])\n",
    "\n",
    "print(\"\\n-----------original response-------------\")\n",
    "print(samples[27][\"answer_orig\"])"
   ]
  },
  {
   "cell_type": "markdown",
   "id": "5ffe8631-9b35-488a-bfb1-95a38aba9aed",
   "metadata": {},
   "source": [
    "### LLM-as-a-judge Part 2"
   ]
  },
  {
   "cell_type": "markdown",
   "id": "511bb290-bf7c-4b11-a4e5-8cdac790849d",
   "metadata": {},
   "source": [
    "Prompt 2 will evaluate the relevance of the **generated answer** compared to the **original question**."
   ]
  },
  {
   "cell_type": "code",
   "execution_count": 463,
   "id": "13d1aa3b-76f0-43d7-855f-d55f4fab07b4",
   "metadata": {},
   "outputs": [
    {
     "name": "stdout",
     "output_type": "stream",
     "text": [
      "You are an expert evaluator for a Retrieval-Augmented Generation (RAG) system.\n",
      "Your task is to analyze the relevance of the generated answer to the given question.\n",
      "Based on the relevance of the generated answer, you will classify it\n",
      "as \"NON_RELEVANT\", \"PARTLY_RELEVANT\", or \"RELEVANT\".\n",
      "\n",
      "Here is the data for evaluation:\n",
      "\n",
      "Question: What modification was made to the median_house_value target in the homework?\n",
      "Generated Answer: A modification was made to the median_house_value target in the homework by applying log transformation. This instruction is provided before Q3 in the Week-2 2023 cohort homework under the 'Prepare and split the dataset' heading, but it should be applied to the target variable for each question.\n",
      "\n",
      "Please analyze the content and context of the generated answer in relation to the question\n",
      "and provide your evaluation in parsable JSON without using code blocks:\n",
      "\n",
      "{\n",
      "  \"Relevance\": \"NON_RELEVANT\" | \"PARTLY_RELEVANT\" | \"RELEVANT\",\n",
      "  \"Explanation\": \"[Provide a brief explanation for your evaluation]\"\n",
      "}\n"
     ]
    }
   ],
   "source": [
    "prompt = prompt2_template.format(**record)\n",
    "print(prompt)"
   ]
  },
  {
   "cell_type": "code",
   "execution_count": 466,
   "id": "306123bc-5afb-411f-9ddb-36255d9e4d61",
   "metadata": {},
   "outputs": [
    {
     "name": "stdout",
     "output_type": "stream",
     "text": [
      "{\n",
      "\"Relevance\": \"RELEVANT\",\n",
      "\"Explanation\": \"The generated answer directly addresses the question about modification made to the median_house_value target in the homework, providing specific details on what modification was applied and where it can be found. The relevance is high because the answer answers the question accurately and provides additional context.\"\n"
     ]
    }
   ],
   "source": [
    "# evaluation = llm(prompt, model='gpt-4o-mini')\n",
    "evaluation = llm(prompt, model='llama3:8b')\n",
    "print(evaluation)"
   ]
  },
  {
   "cell_type": "code",
   "execution_count": 468,
   "id": "a54d1b40-96eb-434d-88a7-b57e5aae4c9e",
   "metadata": {},
   "outputs": [
    {
     "name": "stderr",
     "output_type": "stream",
     "text": [
      "100%|████████████████████████████████████████████████████████████████████| 150/150 [09:05<00:00,  3.63s/it]\n"
     ]
    }
   ],
   "source": [
    "evaluations_2 = []\n",
    "\n",
    "for record in tqdm(samples):\n",
    "    prompt = prompt2_template.format(**record)\n",
    "    # evaluation = llm(prompt, model='gpt-4o-mini')\n",
    "    evaluation = llm(prompt, model='llama3:8b')\n",
    "    evaluations_2.append(evaluation)"
   ]
  },
  {
   "cell_type": "code",
   "execution_count": 642,
   "id": "3bf75f80-d4ca-4de0-ab18-f6d579d55791",
   "metadata": {},
   "outputs": [],
   "source": [
    "json_evaluations_2 = []\n",
    "\n",
    "for i, str_eval in enumerate(evaluations_2):\n",
    "    json_eval = json.loads(str_eval)\n",
    "    json_evaluations_2.append(json_eval)"
   ]
  },
  {
   "cell_type": "markdown",
   "id": "e929ce85-7202-44c5-855c-1ac57eb1e432",
   "metadata": {},
   "source": [
    "### JSON evaluation fixes"
   ]
  },
  {
   "cell_type": "code",
   "execution_count": 643,
   "id": "445b8ed5-8e33-4c74-81ea-af9694c9d27e",
   "metadata": {},
   "outputs": [],
   "source": [
    "# i"
   ]
  },
  {
   "cell_type": "code",
   "execution_count": 644,
   "id": "bc31a540-9a45-4f8d-b5a7-b1021c5e0972",
   "metadata": {},
   "outputs": [],
   "source": [
    "# evaluations_2[i]"
   ]
  },
  {
   "cell_type": "code",
   "execution_count": 645,
   "id": "01ae8051-999a-4c34-b2ed-a5766e1afc1c",
   "metadata": {},
   "outputs": [],
   "source": [
    "# evaluations_2[i] = \"\"\"{\\n  \"Relevance\": \"PARTLY_RELEVANT\",\\n  \"Explanation\": \"The generated answer is partly relevant because it does mention Quinn Avila\\'s solution to the issue of Jupyter notebook not recognizing a newly installed package, which aligns with the question. However, the main focus of the generated answer is on the specific steps taken (e.g., restarting the Jupyter notebook) rather than providing a summary or explanation of how Quinn Avila solved the issue, making it only partly relevant.\"}\n",
    "# # \"\"\""
   ]
  },
  {
   "cell_type": "markdown",
   "id": "81bd4ad0-3836-4e79-baac-8259b8594d6f",
   "metadata": {},
   "source": [
    "### Save evaluation results\n",
    "Save LLM-as-a-judge evaluation to Pandas DataFrame and look at the evaluation results."
   ]
  },
  {
   "cell_type": "code",
   "execution_count": 646,
   "id": "2886303b-f558-4667-821f-c21bacb08d9b",
   "metadata": {},
   "outputs": [],
   "source": [
    "df_evaluations_2 = pd.DataFrame(json_evaluations_2)"
   ]
  },
  {
   "cell_type": "code",
   "execution_count": 650,
   "id": "78bd27cd-7b83-4d2f-840c-20e5412c98cf",
   "metadata": {},
   "outputs": [
    {
     "data": {
      "text/plain": [
       "Relevance\n",
       "PARTLY_RELEVANT    72\n",
       "RELEVANT           63\n",
       "NON_RELEVANT       15\n",
       "Name: count, dtype: int64"
      ]
     },
     "execution_count": 650,
     "metadata": {},
     "output_type": "execute_result"
    }
   ],
   "source": [
    "df_evaluations_2.Relevance.value_counts()"
   ]
  },
  {
   "cell_type": "code",
   "execution_count": 647,
   "id": "fdb82134-4e6c-4f58-b483-acaada9edd9c",
   "metadata": {},
   "outputs": [
    {
     "data": {
      "text/html": [
       "<div>\n",
       "<style scoped>\n",
       "    .dataframe tbody tr th:only-of-type {\n",
       "        vertical-align: middle;\n",
       "    }\n",
       "\n",
       "    .dataframe tbody tr th {\n",
       "        vertical-align: top;\n",
       "    }\n",
       "\n",
       "    .dataframe thead th {\n",
       "        text-align: right;\n",
       "    }\n",
       "</style>\n",
       "<table border=\"1\" class=\"dataframe\">\n",
       "  <thead>\n",
       "    <tr style=\"text-align: right;\">\n",
       "      <th></th>\n",
       "      <th>Relevance</th>\n",
       "      <th>Explanation</th>\n",
       "    </tr>\n",
       "  </thead>\n",
       "  <tbody>\n",
       "    <tr>\n",
       "      <th>4</th>\n",
       "      <td>NON_RELEVANT</td>\n",
       "      <td>The generated answer is not relevant to the or...</td>\n",
       "    </tr>\n",
       "    <tr>\n",
       "      <th>10</th>\n",
       "      <td>NON_RELEVANT</td>\n",
       "      <td>The generated answer is simply a repetition of...</td>\n",
       "    </tr>\n",
       "    <tr>\n",
       "      <th>18</th>\n",
       "      <td>NON_RELEVANT</td>\n",
       "      <td>The generated answer is not relevant to the qu...</td>\n",
       "    </tr>\n",
       "    <tr>\n",
       "      <th>27</th>\n",
       "      <td>NON_RELEVANT</td>\n",
       "      <td>The generated answer is not relevant to the qu...</td>\n",
       "    </tr>\n",
       "    <tr>\n",
       "      <th>45</th>\n",
       "      <td>NON_RELEVANT</td>\n",
       "      <td>The generated answer is not relevant to the qu...</td>\n",
       "    </tr>\n",
       "    <tr>\n",
       "      <th>65</th>\n",
       "      <td>NON_RELEVANT</td>\n",
       "      <td>The generated answer does not provide steps Án...</td>\n",
       "    </tr>\n",
       "    <tr>\n",
       "      <th>72</th>\n",
       "      <td>NON_RELEVANT</td>\n",
       "      <td>The generated answer provides an incorrect ass...</td>\n",
       "    </tr>\n",
       "    <tr>\n",
       "      <th>88</th>\n",
       "      <td>NON_RELEVANT</td>\n",
       "      <td>The generated answer discusses installing pip ...</td>\n",
       "    </tr>\n",
       "    <tr>\n",
       "      <th>102</th>\n",
       "      <td>NON_RELEVANT</td>\n",
       "      <td>The generated answer does not address the ques...</td>\n",
       "    </tr>\n",
       "    <tr>\n",
       "      <th>104</th>\n",
       "      <td>NON_RELEVANT</td>\n",
       "      <td>The generated answer does not directly address...</td>\n",
       "    </tr>\n",
       "    <tr>\n",
       "      <th>117</th>\n",
       "      <td>NON_RELEVANT</td>\n",
       "      <td>The generated answer is unrelated to the quest...</td>\n",
       "    </tr>\n",
       "    <tr>\n",
       "      <th>118</th>\n",
       "      <td>NON_RELEVANT</td>\n",
       "      <td>The generated answer is unrelated to the quest...</td>\n",
       "    </tr>\n",
       "    <tr>\n",
       "      <th>125</th>\n",
       "      <td>NON_RELEVANT</td>\n",
       "      <td>The generated answer appears to be unrelated t...</td>\n",
       "    </tr>\n",
       "    <tr>\n",
       "      <th>127</th>\n",
       "      <td>NON_RELEVANT</td>\n",
       "      <td>The generated answer provides an example of us...</td>\n",
       "    </tr>\n",
       "    <tr>\n",
       "      <th>146</th>\n",
       "      <td>NON_RELEVANT</td>\n",
       "      <td>The generated answer is not related to the que...</td>\n",
       "    </tr>\n",
       "  </tbody>\n",
       "</table>\n",
       "</div>"
      ],
      "text/plain": [
       "        Relevance                                        Explanation\n",
       "4    NON_RELEVANT  The generated answer is not relevant to the or...\n",
       "10   NON_RELEVANT  The generated answer is simply a repetition of...\n",
       "18   NON_RELEVANT  The generated answer is not relevant to the qu...\n",
       "27   NON_RELEVANT  The generated answer is not relevant to the qu...\n",
       "45   NON_RELEVANT  The generated answer is not relevant to the qu...\n",
       "65   NON_RELEVANT  The generated answer does not provide steps Án...\n",
       "72   NON_RELEVANT  The generated answer provides an incorrect ass...\n",
       "88   NON_RELEVANT  The generated answer discusses installing pip ...\n",
       "102  NON_RELEVANT  The generated answer does not address the ques...\n",
       "104  NON_RELEVANT  The generated answer does not directly address...\n",
       "117  NON_RELEVANT  The generated answer is unrelated to the quest...\n",
       "118  NON_RELEVANT  The generated answer is unrelated to the quest...\n",
       "125  NON_RELEVANT  The generated answer appears to be unrelated t...\n",
       "127  NON_RELEVANT  The generated answer provides an example of us...\n",
       "146  NON_RELEVANT  The generated answer is not related to the que..."
      ]
     },
     "execution_count": 647,
     "metadata": {},
     "output_type": "execute_result"
    }
   ],
   "source": [
    "df_evaluations_2[df_evaluations_2.Relevance == 'NON_RELEVANT']"
   ]
  },
  {
   "cell_type": "code",
   "execution_count": 649,
   "id": "9fc65361-dafd-4464-b87d-0b79598a9288",
   "metadata": {},
   "outputs": [
    {
     "name": "stdout",
     "output_type": "stream",
     "text": [
      "-----------LLM response-------------\n",
      "Based on the CONTEXT, I found that there is a question about running Docker daemon on Linux in section 5 of Deploying Machine Learning Models.\n",
      "\n",
      "The answer can be found in the section: How do I debug a docker container?\n",
      "\n",
      "To start the Docker daemon on Linux, you should use the command:\n",
      "\n",
      "```\n",
      "docker run -it --entrypoint bash <image>\n",
      "```\n",
      "\n",
      "If the container is already running, execute a command in the specific container using:\n",
      "\n",
      "```\n",
      "docker ps (find the container-id)\n",
      "docker exec -it <container-id> bash\n",
      "```\n",
      "\n",
      "-----------original question-------------\n",
      "What commands should I use to start the docker daemon on Linux?\n"
     ]
    }
   ],
   "source": [
    "print(\"-----------LLM response-------------\")\n",
    "print(samples[45][\"answer_llm\"])\n",
    "\n",
    "print(\"\\n-----------original question-------------\")\n",
    "print(samples[45][\"question\"])"
   ]
  },
  {
   "cell_type": "markdown",
   "id": "fd0fa0f7-3e7b-4b2b-b5f9-ed4bded87c2b",
   "metadata": {},
   "source": [
    "### Saving all the data"
   ]
  },
  {
   "cell_type": "code",
   "execution_count": 651,
   "id": "9c8ef7f3-e4db-482e-820f-830fbf9125aa",
   "metadata": {},
   "outputs": [],
   "source": [
    "# df_gpt4o.to_csv('data/results-gpt4o-cosine.csv', index=False)\n",
    "# df_gpt35.to_csv('data/results-gpt35-cosine.csv', index=False)\n",
    "# df_gpt4o_mini.to_csv('data/results-gpt4o-mini-cosine.csv', index=False)\n",
    "\n",
    "df_llama2_7b.to_csv('data/results-llama2-7b-cosine.csv', index=False)\n",
    "df_llama3_8b.to_csv('data/results-llama3-8b-cosine.csv', index=False)"
   ]
  },
  {
   "cell_type": "code",
   "execution_count": 652,
   "id": "c7f3d0d0-ece9-41d0-85a5-6c5326c01609",
   "metadata": {},
   "outputs": [],
   "source": [
    "df_evaluations.to_csv('data/evaluations-aqa.csv', index=False)\n",
    "df_evaluations_2.to_csv('data/evaluations-qa.csv', index=False)"
   ]
  },
  {
   "cell_type": "code",
   "execution_count": null,
   "id": "6467de2e-52f1-47e6-ae4f-be8657dde7cf",
   "metadata": {},
   "outputs": [],
   "source": []
  }
 ],
 "metadata": {
  "kernelspec": {
   "display_name": "Python 3 (ipykernel)",
   "language": "python",
   "name": "python3"
  },
  "language_info": {
   "codemirror_mode": {
    "name": "ipython",
    "version": 3
   },
   "file_extension": ".py",
   "mimetype": "text/x-python",
   "name": "python",
   "nbconvert_exporter": "python",
   "pygments_lexer": "ipython3",
   "version": "3.12.3"
  }
 },
 "nbformat": 4,
 "nbformat_minor": 5
}
