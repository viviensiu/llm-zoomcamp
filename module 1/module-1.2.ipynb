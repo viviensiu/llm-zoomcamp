{
 "cells": [
  {
   "cell_type": "code",
   "execution_count": 1,
   "id": "12073b58-8a78-4fc8-ae0b-2dfb5cf625c0",
   "metadata": {},
   "outputs": [],
   "source": [
    "import os\n",
    "from dotenv import load_dotenv\n",
    "from langchain_huggingface import ChatHuggingFace, HuggingFaceEndpoint"
   ]
  },
  {
   "cell_type": "code",
   "execution_count": 2,
   "id": "407ef344-cbbf-4d73-a9d4-b5ae7c80f506",
   "metadata": {},
   "outputs": [],
   "source": [
    "load_dotenv()\n",
    "os.environ[\"HUGGINGFACEHUB_API_TOKEN\"] = os.getenv('HF_KEY')"
   ]
  },
  {
   "cell_type": "code",
   "execution_count": 3,
   "id": "72f4eef1-1421-446a-a32d-850e13ff5c87",
   "metadata": {},
   "outputs": [
    {
     "name": "stderr",
     "output_type": "stream",
     "text": [
      "/Users/viviensiew/.local/share/virtualenvs/llm-zoomcamp-0DI9tvdQ/lib/python3.12/site-packages/tqdm/auto.py:21: TqdmWarning: IProgress not found. Please update jupyter and ipywidgets. See https://ipywidgets.readthedocs.io/en/stable/user_install.html\n",
      "  from .autonotebook import tqdm as notebook_tqdm\n"
     ]
    },
    {
     "name": "stdout",
     "output_type": "stream",
     "text": [
      "The token has not been saved to the git credentials helper. Pass `add_to_git_credential=True` in this function directly or `--add-to-git-credential` if using via `huggingface-cli` if you want to set the git credential as well.\n",
      "Token is valid (permission: read).\n",
      "Your token has been saved to /Users/viviensiew/.cache/huggingface/token\n",
      "Login successful\n",
      " LLM stands for Master of Laws. It is a postgraduate degree that is designed to provide advanced legal knowledge and skills to students who have already completed a Bachelor's degree in law or a related field. LLM programs are typically one to two years in length and are offered by law schools around the world. The degree is designed to provide students with a deeper understanding of a specific area of law, such as corporate law, intellectual property law, or international law. LLM programs are popular among lawyers who want to specialize in a particular area of law and advance their careers. They are also popular among international students who want to gain a deeper understanding of the legal system of a particular country.... Read More\n",
      "What is an LLM in International Law?\n",
      "An LLM in International Law is a postgraduate degree that focuses on the study of international law. International law is a branch of law that deals with the relationships between nations and the rules that govern their interactions. It is a rapidly growing field that is becoming increasingly important in today's globalized world.\n",
      "\n",
      "An LLM in International Law program typically covers a range of topics, including:\n",
      "\n",
      "1. Public international law: This includes the study of international treaties, conventions, and customary law, as well as the role of international organizations such as the United Nations.\n",
      "2. Private international law: This includes the study of the conflict of laws, international sales, and international arbitration.\n",
      "3. International human rights law: This includes the study of human rights treaties, conventions, and customary law, as well as the role of international organizations such as the United Nations.\n",
      "4. International criminal law: This includes the study of international crimes such as genocide, war crimes, and crimes against humanity.\n",
      "5. International trade law: This includes the study of international trade agreements, tariffs, and trade disputes.\n",
      "\n",
      "The program is designed to provide students with a deep understanding of the principles and practices of international law, as well as the skills and knowledge necessary to analyze and resolve international legal problems.\n",
      "\n",
      "Some of the key benefits of pursuing an LLM in International Law include:\n",
      "\n",
      "1. Career opportunities: An LLM in International Law can lead to a wide range of career opportunities, including working for international organizations, governments, and private companies.\n",
      "2. Networking opportunities: Pursuing an LLM in International Law provides opportunities to network with other students and professionals from around the world.\n",
      "3. Specialization: An LLM in International Law allows students to specialize in a specific area of international law, which can be beneficial for those who want to pursue a career\n"
     ]
    }
   ],
   "source": [
    "def getLLM(repo_id):\n",
    "    '''\n",
    "    Returns a HuggingFaceEndpoint object for llm text generation response based on HuggingFace model repo\n",
    "    '''\n",
    "    return HuggingFaceEndpoint(repo_id=repo_id,\n",
    "                               task=\"text-generation\",\n",
    "                               max_new_tokens=512,\n",
    "                               do_sample=False, # deterministic, no need for setting temperature\n",
    "                               verbose=False\n",
    "                              )\n",
    "llm = getLLM(\"meta-llama/Meta-Llama-3-8B-Instruct\")\n",
    "print(llm.invoke(\"What is LLM?\"))"
   ]
  },
  {
   "cell_type": "code",
   "execution_count": null,
   "id": "24a056cd-5095-4ba4-b692-72d973cc3276",
   "metadata": {},
   "outputs": [],
   "source": []
  }
 ],
 "metadata": {
  "kernelspec": {
   "display_name": "Python 3 (ipykernel)",
   "language": "python",
   "name": "python3"
  },
  "language_info": {
   "codemirror_mode": {
    "name": "ipython",
    "version": 3
   },
   "file_extension": ".py",
   "mimetype": "text/x-python",
   "name": "python",
   "nbconvert_exporter": "python",
   "pygments_lexer": "ipython3",
   "version": "3.12.3"
  }
 },
 "nbformat": 4,
 "nbformat_minor": 5
}
